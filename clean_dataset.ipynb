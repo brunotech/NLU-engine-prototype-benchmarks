{
 "cells": [
  {
   "cell_type": "code",
   "execution_count": null,
   "metadata": {},
   "outputs": [],
   "source": [
    "import pandas as pd\n",
    "import ipysheet"
   ]
  },
  {
   "cell_type": "markdown",
   "metadata": {},
   "source": [
    "# Data set cleaning"
   ]
  },
  {
   "cell_type": "markdown",
   "metadata": {},
   "source": [
    "## Load and overview of data set"
   ]
  },
  {
   "cell_type": "code",
   "execution_count": null,
   "metadata": {},
   "outputs": [],
   "source": [
    "def load_data(file_name):\n",
    "    data_df = pd.read_csv(file_name, sep=';')\n",
    "    return data_df.dropna(axis=0, how='any', subset=['answer_normalised'])"
   ]
  },
  {
   "cell_type": "code",
   "execution_count": null,
   "metadata": {},
   "outputs": [],
   "source": [
    "nlu_data_df = load_data(\n",
    "    'NLU-Data-Home-Domain-Annotated-All.csv'\n",
    "    )"
   ]
  },
  {
   "cell_type": "code",
   "execution_count": null,
   "metadata": {},
   "outputs": [],
   "source": [
    "number_of_domains = len(nlu_data_df['scenario'].unique())\n",
    "list_of_domains = nlu_data_df['scenario'].unique()\n",
    "\n",
    "number_of_intents = nlu_data_df['intent'].nunique()\n",
    "list_of_intents = nlu_data_df['intent'].unique()\n",
    "\n",
    "number_of_utterances = nlu_data_df['answer_normalised'].nunique()\n",
    "\n",
    "print(f'From a total of {number_of_utterances} utterances, there are {number_of_domains} domains, {number_of_intents} intents and {number_of_utterances} utterances.\\n')\n",
    "\n",
    "print(f'List of domains: {list_of_domains}\\n')\n",
    "\n",
    "print(f'List of intents: {list_of_intents}\\n')"
   ]
  },
  {
   "cell_type": "code",
   "execution_count": null,
   "metadata": {},
   "outputs": [],
   "source": [
    "from utils.nlu_engine import NLUEngine, LR"
   ]
  },
  {
   "cell_type": "code",
   "execution_count": null,
   "metadata": {},
   "outputs": [],
   "source": [
    "domains = nlu_data_df.scenario.values\n",
    "# TODO: remove vectorized_utterances from here and the function, it is not needed\n",
    "\n",
    "LR_domain_classifier_model, tfidf_vectorizer = NLUEngine.train_intent_classifier(\n",
    "    data_df_path=nlu_data_df,\n",
    "    labels_to_predict='domain',\n",
    "    classifier=LR\n",
    ")\n"
   ]
  },
  {
   "cell_type": "code",
   "execution_count": null,
   "metadata": {},
   "outputs": [],
   "source": [
    "utterance = \"turn of the kitchen lights\"\n",
    "\n",
    "print(NLUEngine.predict_label(\n",
    "    LR_domain_classifier_model, tfidf_vectorizer, utterance))\n"
   ]
  },
  {
   "cell_type": "code",
   "execution_count": null,
   "metadata": {},
   "outputs": [],
   "source": [
    "domain_labels = 'scenario'\n",
    "\n",
    "report_df = NLUEngine.evaluate_classifier(\n",
    "    data_df_path=nlu_data_df,\n",
    "    labels_to_predict=domain_labels,\n",
    "    classifier=LR\n",
    ")"
   ]
  },
  {
   "cell_type": "code",
   "execution_count": null,
   "metadata": {},
   "outputs": [],
   "source": [
    "report_df"
   ]
  },
  {
   "cell_type": "code",
   "execution_count": null,
   "metadata": {},
   "outputs": [],
   "source": [
    "from utils.nlu_engine import EntityExtractor"
   ]
  },
  {
   "cell_type": "code",
   "execution_count": null,
   "metadata": {},
   "outputs": [],
   "source": [
    "utterance_with_tagging = 'wake me up at [time : five pm] [date : this week]'\n",
    "\n",
    "entities = EntityExtractor.extract_entities(utterance_with_tagging)\n",
    "entities\n"
   ]
  },
  {
   "cell_type": "markdown",
   "metadata": {},
   "source": [
    "We don't want all of the columns, so we will drop some to review the data set"
   ]
  },
  {
   "cell_type": "code",
   "execution_count": null,
   "metadata": {},
   "outputs": [],
   "source": [
    "nlu_scenario_data_df = nlu_data_df.drop(\n",
    "    columns=[\n",
    "        'userid', 'notes', 'answer', 'answer_normalised', 'answerid'\n",
    "        ])\n"
   ]
  },
  {
   "cell_type": "markdown",
   "metadata": {},
   "source": [
    "Pick a domain (scenario) to review"
   ]
  },
  {
   "cell_type": "code",
   "execution_count": null,
   "metadata": {},
   "outputs": [],
   "source": [
    "nlu_scenario_df = nlu_scenario_data_df[\n",
    "    nlu_scenario_data_df['scenario'] == 'iot'\n",
    "    ]\n"
   ]
  },
  {
   "cell_type": "markdown",
   "metadata": {},
   "source": [
    "## Convert to ipysheet and review"
   ]
  },
  {
   "cell_type": "markdown",
   "metadata": {},
   "source": [
    "We shall make two buttons. \n",
    "* **review**: Either changes have been made or the entry should be further reviewed\n",
    "* **remove**: We will drop the entry from the data set.\n",
    "\n",
    "Look at each utterance, check the following:\n",
    "* Is the utterance grammatically correct (and spelled correctly)?\n",
    "* Is the utterance in the correct language?\n",
    "* Is the utterance in the correct domain?\n",
    "* Is the utterance in the correct format?\n",
    "* Does the utterance actually make sense? (i.e. does it make sense to say it?)\n",
    "\n",
    "If you are unsure, you are marking your changes as **review** anyway, so that's cool."
   ]
  },
  {
   "cell_type": "code",
   "execution_count": null,
   "metadata": {},
   "outputs": [],
   "source": [
    "nlu_scenario_df = nlu_scenario_df.assign(review=None)\n",
    "nlu_scenario_df['review'] = nlu_scenario_df['review'].astype(bool)\n",
    "\n",
    "nlu_scenario_df = nlu_scenario_df.assign(remove=None)\n",
    "nlu_scenario_df['remove'] = nlu_scenario_df['remove'].astype(bool)\n",
    "\n",
    "nlu_scenario_df_sheet = ipysheet.from_dataframe(nlu_scenario_df)\n",
    "nlu_scenario_sheet = ipysheet.from_dataframe(nlu_scenario_df)\n",
    "nlu_scenario_sheet"
   ]
  },
  {
   "cell_type": "markdown",
   "metadata": {},
   "source": [
    "Once you are done reviewing, you convert it back to a dataframe and check to make sure it looks okay."
   ]
  },
  {
   "cell_type": "code",
   "execution_count": null,
   "metadata": {},
   "outputs": [],
   "source": [
    "reviwed_scenario_df = ipysheet.to_dataframe(nlu_scenario_sheet)\n",
    "reviwed_scenario_df.index = pd.to_numeric(reviwed_scenario_df.index)\n",
    "reviwed_scenario_df.tail(50)"
   ]
  },
  {
   "cell_type": "markdown",
   "metadata": {},
   "source": [
    "If you are sure it is okay, you can save it as a csv file, make sure to name it correctly (i.e. `alarm_domain_first_review.csv`)"
   ]
  },
  {
   "cell_type": "code",
   "execution_count": null,
   "metadata": {},
   "outputs": [],
   "source": [
    "reviwed_scenario_df.to_csv('audio_domain_first_review.csv')\n"
   ]
  },
  {
   "cell_type": "markdown",
   "metadata": {},
   "source": [
    "Load it back up and check to make sure it looks okay. Make sure to give it the right name!"
   ]
  },
  {
   "cell_type": "code",
   "execution_count": null,
   "metadata": {},
   "outputs": [],
   "source": [
    "audio_domain_first_review_df = pd.read_csv('audio_domain_first_review.csv', index_col=0)\n",
    "audio_domain_first_review_df.tail(50)"
   ]
  },
  {
   "cell_type": "code",
   "execution_count": null,
   "metadata": {},
   "outputs": [],
   "source": [
    "# TODO: implement the evaluate_classifier in the NLU engine to check f1 score for intents and entities in the domain vs original NLU data of domain!\n",
    "# Value: benchmark!"
   ]
  },
  {
   "cell_type": "code",
   "execution_count": null,
   "metadata": {},
   "outputs": [],
   "source": [
    "# TODO: cancat all reviewed dfs and save to csv"
   ]
  },
  {
   "cell_type": "code",
   "execution_count": null,
   "metadata": {},
   "outputs": [],
   "source": [
    "# TODO: add benchmark for whole NLU data set before and after cleaning! (by intents and domains!)\n",
    "# TODO: review the review marked entries\n",
    "# TODO: add new column for notes\n",
    "# TODO: change flow of review for only ones that should be reviewed, not all of the ones that have been changed (track changes by comparing against the original data set)\n",
    "# TODO: do the changed utterances have to be changed in other fields too or is it just enough for the tagged utterancve field?"
   ]
  },
  {
   "cell_type": "code",
   "execution_count": null,
   "metadata": {},
   "outputs": [],
   "source": [
    "# TODO: add visualizations of domains, their intents, keywords in utterances, and entities"
   ]
  }
 ],
 "metadata": {
  "interpreter": {
   "hash": "f1ecf1ecc6a840da86e8b827c66035ad900dc97d6a10e234826dd106c37257af"
  },
  "kernelspec": {
   "display_name": "Python 3.7.7 ('.venv': venv)",
   "language": "python",
   "name": "python3"
  },
  "language_info": {
   "codemirror_mode": {
    "name": "ipython",
    "version": 3
   },
   "file_extension": ".py",
   "mimetype": "text/x-python",
   "name": "python",
   "nbconvert_exporter": "python",
   "pygments_lexer": "ipython3",
   "version": "3.7.7"
  },
  "orig_nbformat": 4
 },
 "nbformat": 4,
 "nbformat_minor": 2
}

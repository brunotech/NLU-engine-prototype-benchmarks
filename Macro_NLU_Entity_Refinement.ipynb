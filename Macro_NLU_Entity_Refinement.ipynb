{
 "cells": [
  {
   "cell_type": "code",
   "execution_count": 2,
   "metadata": {},
   "outputs": [],
   "source": [
    "import warnings\n",
    "warnings.filterwarnings(\"ignore\", category=DeprecationWarning)\n",
    "warnings.filterwarnings(\"ignore\", category=FutureWarning)\n",
    "\n",
    "import pandas as pd\n",
    "import nltk\n",
    "\n",
    "from nlu_engine import NLUEngine\n",
    "from nlu_engine import MacroDataRefinement\n",
    "from nlu_engine import MacroEntityRefinement\n",
    "\n",
    "from nlu_engine import DataUtils\n",
    "from nlu_engine import RenderJSON\n",
    "\n",
    "from nlu_engine import Analytics\n",
    "\n",
    "from nlu_engine import EntityExtractor, crf"
   ]
  },
  {
   "cell_type": "markdown",
   "metadata": {},
   "source": [
    "# Macro NLU Data Refinement"
   ]
  },
  {
   "cell_type": "markdown",
   "metadata": {},
   "source": [
    "It's a bit like the TV show [Serverance](https://www.imdb.com/title/tt11280740/) .\n",
    "\n",
    "![Helly R and Mark S](https://media.npr.org/assets/img/2022/02/15/atv_severance_photo_010103-5f8033cc2b219ba64fe265ce893eae4c90e83896-s1100-c50.jpg \"Helly R and Mark G\")\n",
    "\n",
    "*Helly R*: `My job is to scroll through the spreadsheet and look for the numbers that feel scary?`\n",
    "\n",
    "*Mark S*: `I told you, you’ll understand when you see it, so just be patient.`\n",
    "\n",
    "![MDR](https://www.imore.com/sites/imore.com/files/styles/large/public/field/image/2022/03/refinement-software-severance-apple-tv.jpg \"serverance micro data refinement\")\n",
    "\n",
    "*Helly R*: `That was scary. The numbers were scary.`\n",
    "\n",
    "Hopefully the intents and entities that are wrong aren't scary, just a bit frustrating. Let's see if we can find the right ones.\n",
    "\n",
    "NOTE: We will use Logistic Regression with TFIDF features to train our intent models and CRFs for entity exraction. Why? Well, they are very fast and both methods aren't state-of-the-art. This is good, because it is easier to find problems we will need to refine in the dataset than if we were to use a proper NLU engine like Snips or something SOTA like BERT. It is very important to note that some of the the problems we will pick up on, might not be an actual issue, but might be due to the limitations of the models. Refining the real problems and ignoring the limitations of the models is a good way to improve the models. Then when the dataset is ready, we can use some more advanced NLU engine and get the best performance possible.\n",
    "\n",
    "* Macro NLU Data Refinement: Intent\n",
    "* Macro NLU Data Refinement: Entity\n"
   ]
  },
  {
   "cell_type": "markdown",
   "metadata": {},
   "source": [
    "Load the dataset"
   ]
  },
  {
   "cell_type": "code",
   "execution_count": 3,
   "metadata": {},
   "outputs": [
    {
     "name": "stdout",
     "output_type": "stream",
     "text": [
      "Successfully loaded nlu_data_refined_df.csv\n"
     ]
    }
   ],
   "source": [
    "try:\n",
    "    nlu_data_df = pd.read_csv(\n",
    "        'data/refined/nlu_data_refined_df.csv', sep=',', index_col=0)\n",
    "    print('Successfully loaded nlu_data_refined_df.csv')\n",
    "except:\n",
    "    data = 'data/NLU-Data-Home-Domain-Annotated-All-Cleaned.csv'\n",
    "    nlu_data_df = DataUtils.load_data(\n",
    "    data\n",
    ")"
   ]
  },
  {
   "cell_type": "code",
   "execution_count": null,
   "metadata": {},
   "outputs": [],
   "source": [
    "# TODO: Remove this when done.It's just for testing!\n",
    "data = 'data/NLU-Data-Home-Domain-Annotated-All-Cleaned.csv'\n",
    "nlu_data_df = DataUtils.load_data(\n",
    "    data\n",
    ")"
   ]
  },
  {
   "cell_type": "markdown",
   "metadata": {},
   "source": [
    "Make sure `nlu_data_df['answer_normalised']` is taken from `nlu_data_df['answer_annotation']`"
   ]
  },
  {
   "cell_type": "code",
   "execution_count": 4,
   "metadata": {},
   "outputs": [],
   "source": [
    "nlu_data_df = DataUtils.convert_annotated_utterances_to_normalised_utterances(\n",
    "    nlu_data_df)\n"
   ]
  },
  {
   "cell_type": "code",
   "execution_count": null,
   "metadata": {},
   "outputs": [],
   "source": [
    "#TODO: does this NEED to be here, LOL!\n",
    "from matplotlib.pyplot import axis\n"
   ]
  },
  {
   "cell_type": "markdown",
   "metadata": {},
   "source": [
    "We should remove the unwanted entries for the next few steps."
   ]
  },
  {
   "cell_type": "code",
   "execution_count": 5,
   "metadata": {},
   "outputs": [],
   "source": [
    "removed_nlu_data_refined_df = nlu_data_df[nlu_data_df['remove'] != True]"
   ]
  },
  {
   "cell_type": "markdown",
   "metadata": {},
   "source": [
    "# Entity extraction report"
   ]
  },
  {
   "cell_type": "markdown",
   "metadata": {},
   "source": [
    "The entity extraction could be greatly improved by improving the features it uses. It would be great if someone would take a look at this. Perhaps the CRF features similar to what Snips uses would be better such as Brown clustering (probably)."
   ]
  },
  {
   "cell_type": "code",
   "execution_count": null,
   "metadata": {},
   "outputs": [],
   "source": [
    "#TODO: implement brown clustering to improve entity extraction (see entity_extractor.py)"
   ]
  },
  {
   "cell_type": "markdown",
   "metadata": {},
   "source": [
    "It is important to have the NLTK tokenizer to be able to extract entities."
   ]
  },
  {
   "cell_type": "code",
   "execution_count": null,
   "metadata": {},
   "outputs": [],
   "source": [
    "try:\n",
    "    nltk.data.find('tokenizers/punkt')\n",
    "except LookupError:\n",
    "        nltk.download('punkt')"
   ]
  },
  {
   "cell_type": "markdown",
   "metadata": {},
   "source": [
    "Due to this error featured in [this git issue](https://github.com/TeamHG-Memex/sklearn-crfsuite/issues/60) we have to use an older version of scikit learn (sklearn<0.24), otherwise the latest version would work. Hopefully this gets fixed one day.."
   ]
  },
  {
   "cell_type": "code",
   "execution_count": 6,
   "metadata": {},
   "outputs": [
    {
     "name": "stdout",
     "output_type": "stream",
     "text": [
      "Evaluating entity classifier\n",
      "Cross validating with CRF(algorithm='lbfgs', all_possible_transitions=True, c1=0.1, c2=0.1,\n",
      "    keep_tempfiles=None, max_iterations=100)\n"
     ]
    },
    {
     "name": "stderr",
     "output_type": "stream",
     "text": [
      "<string>:6: VisibleDeprecationWarning: Creating an ndarray from ragged nested sequences (which is a list-or-tuple of lists-or-tuples-or ndarrays with different lengths or shapes) is deprecated. If you meant to do this, you must specify 'dtype=object' when creating the ndarray.\n"
     ]
    },
    {
     "name": "stdout",
     "output_type": "stream",
     "text": [
      "Time it took to cross validate CRF(algorithm='lbfgs', all_possible_transitions=True, c1=0.1, c2=0.1,\n",
      "    keep_tempfiles=None, max_iterations=100): 279.7219412326813\n"
     ]
    },
    {
     "name": "stderr",
     "output_type": "stream",
     "text": [
      "/home/bartmoss/code/NLU-engine-prototype-benchmarks/.venv/lib/python3.7/site-packages/sklearn/metrics/_classification.py:1221: UndefinedMetricWarning: Precision and F-score are ill-defined and being set to 0.0 in labels with no predicted samples. Use `zero_division` parameter to control this behavior.\n",
      "  _warn_prf(average, modifier, msg_start, len(result))\n"
     ]
    }
   ],
   "source": [
    "entity_report_df = NLUEngine.evaluate_entity_classifier(\n",
    "    data_df=removed_nlu_data_refined_df, cv=4)"
   ]
  },
  {
   "cell_type": "code",
   "execution_count": 7,
   "metadata": {},
   "outputs": [
    {
     "data": {
      "text/html": [
       "<div>\n",
       "<style scoped>\n",
       "    .dataframe tbody tr th:only-of-type {\n",
       "        vertical-align: middle;\n",
       "    }\n",
       "\n",
       "    .dataframe tbody tr th {\n",
       "        vertical-align: top;\n",
       "    }\n",
       "\n",
       "    .dataframe thead th {\n",
       "        text-align: right;\n",
       "    }\n",
       "</style>\n",
       "<table border=\"1\" class=\"dataframe\">\n",
       "  <thead>\n",
       "    <tr style=\"text-align: right;\">\n",
       "      <th></th>\n",
       "      <th>entity-type</th>\n",
       "      <th>precision</th>\n",
       "      <th>recall</th>\n",
       "      <th>f1-score</th>\n",
       "      <th>support</th>\n",
       "    </tr>\n",
       "  </thead>\n",
       "  <tbody>\n",
       "    <tr>\n",
       "      <th>0</th>\n",
       "      <td>0</td>\n",
       "      <td>0.875369</td>\n",
       "      <td>0.953684</td>\n",
       "      <td>0.912850</td>\n",
       "      <td>64449.000000</td>\n",
       "    </tr>\n",
       "    <tr>\n",
       "      <th>1</th>\n",
       "      <td>alarm_type</td>\n",
       "      <td>0.000000</td>\n",
       "      <td>0.000000</td>\n",
       "      <td>0.000000</td>\n",
       "      <td>26.000000</td>\n",
       "    </tr>\n",
       "    <tr>\n",
       "      <th>2</th>\n",
       "      <td>app_name</td>\n",
       "      <td>0.878788</td>\n",
       "      <td>0.460317</td>\n",
       "      <td>0.604167</td>\n",
       "      <td>63.000000</td>\n",
       "    </tr>\n",
       "    <tr>\n",
       "      <th>3</th>\n",
       "      <td>artist_name</td>\n",
       "      <td>0.350877</td>\n",
       "      <td>0.285714</td>\n",
       "      <td>0.314961</td>\n",
       "      <td>560.000000</td>\n",
       "    </tr>\n",
       "    <tr>\n",
       "      <th>4</th>\n",
       "      <td>audiobook_author</td>\n",
       "      <td>0.000000</td>\n",
       "      <td>0.000000</td>\n",
       "      <td>0.000000</td>\n",
       "      <td>22.000000</td>\n",
       "    </tr>\n",
       "    <tr>\n",
       "      <th>5</th>\n",
       "      <td>audiobook_name</td>\n",
       "      <td>0.000000</td>\n",
       "      <td>0.000000</td>\n",
       "      <td>0.000000</td>\n",
       "      <td>235.000000</td>\n",
       "    </tr>\n",
       "    <tr>\n",
       "      <th>6</th>\n",
       "      <td>business_name</td>\n",
       "      <td>0.319149</td>\n",
       "      <td>0.153374</td>\n",
       "      <td>0.207182</td>\n",
       "      <td>489.000000</td>\n",
       "    </tr>\n",
       "    <tr>\n",
       "      <th>7</th>\n",
       "      <td>business_type</td>\n",
       "      <td>0.605714</td>\n",
       "      <td>0.305476</td>\n",
       "      <td>0.406130</td>\n",
       "      <td>347.000000</td>\n",
       "    </tr>\n",
       "    <tr>\n",
       "      <th>8</th>\n",
       "      <td>change_amount</td>\n",
       "      <td>0.000000</td>\n",
       "      <td>0.000000</td>\n",
       "      <td>0.000000</td>\n",
       "      <td>150.000000</td>\n",
       "    </tr>\n",
       "    <tr>\n",
       "      <th>9</th>\n",
       "      <td>coffee_type</td>\n",
       "      <td>1.000000</td>\n",
       "      <td>0.155556</td>\n",
       "      <td>0.269231</td>\n",
       "      <td>45.000000</td>\n",
       "    </tr>\n",
       "    <tr>\n",
       "      <th>10</th>\n",
       "      <td>color_type</td>\n",
       "      <td>0.736111</td>\n",
       "      <td>0.325153</td>\n",
       "      <td>0.451064</td>\n",
       "      <td>163.000000</td>\n",
       "    </tr>\n",
       "    <tr>\n",
       "      <th>11</th>\n",
       "      <td>cooking_type</td>\n",
       "      <td>0.000000</td>\n",
       "      <td>0.000000</td>\n",
       "      <td>0.000000</td>\n",
       "      <td>22.000000</td>\n",
       "    </tr>\n",
       "    <tr>\n",
       "      <th>12</th>\n",
       "      <td>currency_name</td>\n",
       "      <td>0.000000</td>\n",
       "      <td>0.000000</td>\n",
       "      <td>0.000000</td>\n",
       "      <td>864.000000</td>\n",
       "    </tr>\n",
       "    <tr>\n",
       "      <th>13</th>\n",
       "      <td>date</td>\n",
       "      <td>0.870067</td>\n",
       "      <td>0.880224</td>\n",
       "      <td>0.875116</td>\n",
       "      <td>4283.000000</td>\n",
       "    </tr>\n",
       "    <tr>\n",
       "      <th>14</th>\n",
       "      <td>definition_word</td>\n",
       "      <td>0.000000</td>\n",
       "      <td>0.000000</td>\n",
       "      <td>0.000000</td>\n",
       "      <td>510.000000</td>\n",
       "    </tr>\n",
       "    <tr>\n",
       "      <th>15</th>\n",
       "      <td>device_type</td>\n",
       "      <td>0.763661</td>\n",
       "      <td>0.707595</td>\n",
       "      <td>0.734560</td>\n",
       "      <td>790.000000</td>\n",
       "    </tr>\n",
       "    <tr>\n",
       "      <th>16</th>\n",
       "      <td>drink_type</td>\n",
       "      <td>0.000000</td>\n",
       "      <td>0.000000</td>\n",
       "      <td>0.000000</td>\n",
       "      <td>20.000000</td>\n",
       "    </tr>\n",
       "    <tr>\n",
       "      <th>17</th>\n",
       "      <td>email_address</td>\n",
       "      <td>0.986928</td>\n",
       "      <td>0.909639</td>\n",
       "      <td>0.946708</td>\n",
       "      <td>166.000000</td>\n",
       "    </tr>\n",
       "    <tr>\n",
       "      <th>18</th>\n",
       "      <td>email_folder</td>\n",
       "      <td>0.980000</td>\n",
       "      <td>0.924528</td>\n",
       "      <td>0.951456</td>\n",
       "      <td>53.000000</td>\n",
       "    </tr>\n",
       "    <tr>\n",
       "      <th>19</th>\n",
       "      <td>event_name</td>\n",
       "      <td>0.435367</td>\n",
       "      <td>0.346787</td>\n",
       "      <td>0.386061</td>\n",
       "      <td>2428.000000</td>\n",
       "    </tr>\n",
       "    <tr>\n",
       "      <th>20</th>\n",
       "      <td>food_type</td>\n",
       "      <td>0.465854</td>\n",
       "      <td>0.280470</td>\n",
       "      <td>0.350137</td>\n",
       "      <td>681.000000</td>\n",
       "    </tr>\n",
       "    <tr>\n",
       "      <th>21</th>\n",
       "      <td>game_name</td>\n",
       "      <td>0.000000</td>\n",
       "      <td>0.000000</td>\n",
       "      <td>0.000000</td>\n",
       "      <td>239.000000</td>\n",
       "    </tr>\n",
       "    <tr>\n",
       "      <th>22</th>\n",
       "      <td>game_type</td>\n",
       "      <td>0.000000</td>\n",
       "      <td>0.000000</td>\n",
       "      <td>0.000000</td>\n",
       "      <td>3.000000</td>\n",
       "    </tr>\n",
       "    <tr>\n",
       "      <th>23</th>\n",
       "      <td>general_frequency</td>\n",
       "      <td>0.541667</td>\n",
       "      <td>0.103586</td>\n",
       "      <td>0.173913</td>\n",
       "      <td>251.000000</td>\n",
       "    </tr>\n",
       "    <tr>\n",
       "      <th>24</th>\n",
       "      <td>house_place</td>\n",
       "      <td>0.853242</td>\n",
       "      <td>0.609756</td>\n",
       "      <td>0.711238</td>\n",
       "      <td>410.000000</td>\n",
       "    </tr>\n",
       "    <tr>\n",
       "      <th>25</th>\n",
       "      <td>ingredient</td>\n",
       "      <td>0.000000</td>\n",
       "      <td>0.000000</td>\n",
       "      <td>0.000000</td>\n",
       "      <td>38.000000</td>\n",
       "    </tr>\n",
       "    <tr>\n",
       "      <th>26</th>\n",
       "      <td>joke_type</td>\n",
       "      <td>0.911765</td>\n",
       "      <td>0.413333</td>\n",
       "      <td>0.568807</td>\n",
       "      <td>75.000000</td>\n",
       "    </tr>\n",
       "    <tr>\n",
       "      <th>27</th>\n",
       "      <td>list_name</td>\n",
       "      <td>0.746736</td>\n",
       "      <td>0.542694</td>\n",
       "      <td>0.628571</td>\n",
       "      <td>527.000000</td>\n",
       "    </tr>\n",
       "    <tr>\n",
       "      <th>28</th>\n",
       "      <td>meal_type</td>\n",
       "      <td>0.761905</td>\n",
       "      <td>0.640000</td>\n",
       "      <td>0.695652</td>\n",
       "      <td>100.000000</td>\n",
       "    </tr>\n",
       "    <tr>\n",
       "      <th>29</th>\n",
       "      <td>media_type</td>\n",
       "      <td>0.299180</td>\n",
       "      <td>0.162584</td>\n",
       "      <td>0.210678</td>\n",
       "      <td>449.000000</td>\n",
       "    </tr>\n",
       "    <tr>\n",
       "      <th>30</th>\n",
       "      <td>movie_name</td>\n",
       "      <td>0.000000</td>\n",
       "      <td>0.000000</td>\n",
       "      <td>0.000000</td>\n",
       "      <td>32.000000</td>\n",
       "    </tr>\n",
       "    <tr>\n",
       "      <th>31</th>\n",
       "      <td>movie_type</td>\n",
       "      <td>0.000000</td>\n",
       "      <td>0.000000</td>\n",
       "      <td>0.000000</td>\n",
       "      <td>19.000000</td>\n",
       "    </tr>\n",
       "    <tr>\n",
       "      <th>32</th>\n",
       "      <td>music_album</td>\n",
       "      <td>0.000000</td>\n",
       "      <td>0.000000</td>\n",
       "      <td>0.000000</td>\n",
       "      <td>7.000000</td>\n",
       "    </tr>\n",
       "    <tr>\n",
       "      <th>33</th>\n",
       "      <td>music_descriptor</td>\n",
       "      <td>0.186047</td>\n",
       "      <td>0.061069</td>\n",
       "      <td>0.091954</td>\n",
       "      <td>131.000000</td>\n",
       "    </tr>\n",
       "    <tr>\n",
       "      <th>34</th>\n",
       "      <td>music_genre</td>\n",
       "      <td>0.738170</td>\n",
       "      <td>0.688235</td>\n",
       "      <td>0.712329</td>\n",
       "      <td>340.000000</td>\n",
       "    </tr>\n",
       "    <tr>\n",
       "      <th>35</th>\n",
       "      <td>news_topic</td>\n",
       "      <td>0.023211</td>\n",
       "      <td>0.047244</td>\n",
       "      <td>0.031128</td>\n",
       "      <td>508.000000</td>\n",
       "    </tr>\n",
       "    <tr>\n",
       "      <th>36</th>\n",
       "      <td>order_type</td>\n",
       "      <td>0.791667</td>\n",
       "      <td>0.521978</td>\n",
       "      <td>0.629139</td>\n",
       "      <td>182.000000</td>\n",
       "    </tr>\n",
       "    <tr>\n",
       "      <th>37</th>\n",
       "      <td>person</td>\n",
       "      <td>0.620155</td>\n",
       "      <td>0.510096</td>\n",
       "      <td>0.559767</td>\n",
       "      <td>1882.000000</td>\n",
       "    </tr>\n",
       "    <tr>\n",
       "      <th>38</th>\n",
       "      <td>personal_info</td>\n",
       "      <td>0.540000</td>\n",
       "      <td>0.369863</td>\n",
       "      <td>0.439024</td>\n",
       "      <td>146.000000</td>\n",
       "    </tr>\n",
       "    <tr>\n",
       "      <th>39</th>\n",
       "      <td>place_name</td>\n",
       "      <td>0.617567</td>\n",
       "      <td>0.624611</td>\n",
       "      <td>0.621069</td>\n",
       "      <td>2893.000000</td>\n",
       "    </tr>\n",
       "    <tr>\n",
       "      <th>40</th>\n",
       "      <td>player_setting</td>\n",
       "      <td>0.444444</td>\n",
       "      <td>0.186380</td>\n",
       "      <td>0.262626</td>\n",
       "      <td>279.000000</td>\n",
       "    </tr>\n",
       "    <tr>\n",
       "      <th>41</th>\n",
       "      <td>playlist_name</td>\n",
       "      <td>0.259259</td>\n",
       "      <td>0.104478</td>\n",
       "      <td>0.148936</td>\n",
       "      <td>201.000000</td>\n",
       "    </tr>\n",
       "    <tr>\n",
       "      <th>42</th>\n",
       "      <td>podcast_descriptor</td>\n",
       "      <td>0.000000</td>\n",
       "      <td>0.000000</td>\n",
       "      <td>0.000000</td>\n",
       "      <td>269.000000</td>\n",
       "    </tr>\n",
       "    <tr>\n",
       "      <th>43</th>\n",
       "      <td>podcast_name</td>\n",
       "      <td>0.021978</td>\n",
       "      <td>0.010929</td>\n",
       "      <td>0.014599</td>\n",
       "      <td>183.000000</td>\n",
       "    </tr>\n",
       "    <tr>\n",
       "      <th>44</th>\n",
       "      <td>radio_name</td>\n",
       "      <td>0.000000</td>\n",
       "      <td>0.000000</td>\n",
       "      <td>0.000000</td>\n",
       "      <td>914.000000</td>\n",
       "    </tr>\n",
       "    <tr>\n",
       "      <th>45</th>\n",
       "      <td>relation</td>\n",
       "      <td>0.850610</td>\n",
       "      <td>0.692308</td>\n",
       "      <td>0.763338</td>\n",
       "      <td>403.000000</td>\n",
       "    </tr>\n",
       "    <tr>\n",
       "      <th>46</th>\n",
       "      <td>song_name</td>\n",
       "      <td>0.108418</td>\n",
       "      <td>0.150977</td>\n",
       "      <td>0.126206</td>\n",
       "      <td>563.000000</td>\n",
       "    </tr>\n",
       "    <tr>\n",
       "      <th>47</th>\n",
       "      <td>sport_type</td>\n",
       "      <td>0.000000</td>\n",
       "      <td>0.000000</td>\n",
       "      <td>0.000000</td>\n",
       "      <td>13.000000</td>\n",
       "    </tr>\n",
       "    <tr>\n",
       "      <th>48</th>\n",
       "      <td>time</td>\n",
       "      <td>0.806867</td>\n",
       "      <td>0.820065</td>\n",
       "      <td>0.813413</td>\n",
       "      <td>2751.000000</td>\n",
       "    </tr>\n",
       "    <tr>\n",
       "      <th>49</th>\n",
       "      <td>time_zone</td>\n",
       "      <td>0.666667</td>\n",
       "      <td>0.166667</td>\n",
       "      <td>0.266667</td>\n",
       "      <td>120.000000</td>\n",
       "    </tr>\n",
       "    <tr>\n",
       "      <th>50</th>\n",
       "      <td>timeofday</td>\n",
       "      <td>0.838554</td>\n",
       "      <td>0.899225</td>\n",
       "      <td>0.867830</td>\n",
       "      <td>387.000000</td>\n",
       "    </tr>\n",
       "    <tr>\n",
       "      <th>51</th>\n",
       "      <td>transport_agency</td>\n",
       "      <td>0.000000</td>\n",
       "      <td>0.000000</td>\n",
       "      <td>0.000000</td>\n",
       "      <td>72.000000</td>\n",
       "    </tr>\n",
       "    <tr>\n",
       "      <th>52</th>\n",
       "      <td>transport_descriptor</td>\n",
       "      <td>0.000000</td>\n",
       "      <td>0.000000</td>\n",
       "      <td>0.000000</td>\n",
       "      <td>33.000000</td>\n",
       "    </tr>\n",
       "    <tr>\n",
       "      <th>53</th>\n",
       "      <td>transport_name</td>\n",
       "      <td>0.000000</td>\n",
       "      <td>0.000000</td>\n",
       "      <td>0.000000</td>\n",
       "      <td>52.000000</td>\n",
       "    </tr>\n",
       "    <tr>\n",
       "      <th>54</th>\n",
       "      <td>transport_type</td>\n",
       "      <td>0.000000</td>\n",
       "      <td>0.000000</td>\n",
       "      <td>0.000000</td>\n",
       "      <td>508.000000</td>\n",
       "    </tr>\n",
       "    <tr>\n",
       "      <th>55</th>\n",
       "      <td>weather_descriptor</td>\n",
       "      <td>0.699083</td>\n",
       "      <td>0.524072</td>\n",
       "      <td>0.599057</td>\n",
       "      <td>727.000000</td>\n",
       "    </tr>\n",
       "    <tr>\n",
       "      <th>56</th>\n",
       "      <td>accuracy</td>\n",
       "      <td>0.812529</td>\n",
       "      <td>0.812529</td>\n",
       "      <td>0.812529</td>\n",
       "      <td>0.812529</td>\n",
       "    </tr>\n",
       "    <tr>\n",
       "      <th>57</th>\n",
       "      <td>macro avg</td>\n",
       "      <td>0.385626</td>\n",
       "      <td>0.277476</td>\n",
       "      <td>0.309742</td>\n",
       "      <td>92073.000000</td>\n",
       "    </tr>\n",
       "    <tr>\n",
       "      <th>58</th>\n",
       "      <td>weighted avg</td>\n",
       "      <td>0.776102</td>\n",
       "      <td>0.812529</td>\n",
       "      <td>0.790506</td>\n",
       "      <td>92073.000000</td>\n",
       "    </tr>\n",
       "  </tbody>\n",
       "</table>\n",
       "</div>"
      ],
      "text/plain": [
       "             entity-type  precision    recall  f1-score       support\n",
       "0                      0   0.875369  0.953684  0.912850  64449.000000\n",
       "1             alarm_type   0.000000  0.000000  0.000000     26.000000\n",
       "2               app_name   0.878788  0.460317  0.604167     63.000000\n",
       "3            artist_name   0.350877  0.285714  0.314961    560.000000\n",
       "4       audiobook_author   0.000000  0.000000  0.000000     22.000000\n",
       "5         audiobook_name   0.000000  0.000000  0.000000    235.000000\n",
       "6          business_name   0.319149  0.153374  0.207182    489.000000\n",
       "7          business_type   0.605714  0.305476  0.406130    347.000000\n",
       "8          change_amount   0.000000  0.000000  0.000000    150.000000\n",
       "9            coffee_type   1.000000  0.155556  0.269231     45.000000\n",
       "10            color_type   0.736111  0.325153  0.451064    163.000000\n",
       "11          cooking_type   0.000000  0.000000  0.000000     22.000000\n",
       "12         currency_name   0.000000  0.000000  0.000000    864.000000\n",
       "13                  date   0.870067  0.880224  0.875116   4283.000000\n",
       "14       definition_word   0.000000  0.000000  0.000000    510.000000\n",
       "15           device_type   0.763661  0.707595  0.734560    790.000000\n",
       "16            drink_type   0.000000  0.000000  0.000000     20.000000\n",
       "17         email_address   0.986928  0.909639  0.946708    166.000000\n",
       "18          email_folder   0.980000  0.924528  0.951456     53.000000\n",
       "19            event_name   0.435367  0.346787  0.386061   2428.000000\n",
       "20             food_type   0.465854  0.280470  0.350137    681.000000\n",
       "21             game_name   0.000000  0.000000  0.000000    239.000000\n",
       "22             game_type   0.000000  0.000000  0.000000      3.000000\n",
       "23     general_frequency   0.541667  0.103586  0.173913    251.000000\n",
       "24           house_place   0.853242  0.609756  0.711238    410.000000\n",
       "25            ingredient   0.000000  0.000000  0.000000     38.000000\n",
       "26             joke_type   0.911765  0.413333  0.568807     75.000000\n",
       "27             list_name   0.746736  0.542694  0.628571    527.000000\n",
       "28             meal_type   0.761905  0.640000  0.695652    100.000000\n",
       "29            media_type   0.299180  0.162584  0.210678    449.000000\n",
       "30            movie_name   0.000000  0.000000  0.000000     32.000000\n",
       "31            movie_type   0.000000  0.000000  0.000000     19.000000\n",
       "32           music_album   0.000000  0.000000  0.000000      7.000000\n",
       "33      music_descriptor   0.186047  0.061069  0.091954    131.000000\n",
       "34           music_genre   0.738170  0.688235  0.712329    340.000000\n",
       "35            news_topic   0.023211  0.047244  0.031128    508.000000\n",
       "36            order_type   0.791667  0.521978  0.629139    182.000000\n",
       "37                person   0.620155  0.510096  0.559767   1882.000000\n",
       "38         personal_info   0.540000  0.369863  0.439024    146.000000\n",
       "39            place_name   0.617567  0.624611  0.621069   2893.000000\n",
       "40        player_setting   0.444444  0.186380  0.262626    279.000000\n",
       "41         playlist_name   0.259259  0.104478  0.148936    201.000000\n",
       "42    podcast_descriptor   0.000000  0.000000  0.000000    269.000000\n",
       "43          podcast_name   0.021978  0.010929  0.014599    183.000000\n",
       "44            radio_name   0.000000  0.000000  0.000000    914.000000\n",
       "45              relation   0.850610  0.692308  0.763338    403.000000\n",
       "46             song_name   0.108418  0.150977  0.126206    563.000000\n",
       "47            sport_type   0.000000  0.000000  0.000000     13.000000\n",
       "48                  time   0.806867  0.820065  0.813413   2751.000000\n",
       "49             time_zone   0.666667  0.166667  0.266667    120.000000\n",
       "50             timeofday   0.838554  0.899225  0.867830    387.000000\n",
       "51      transport_agency   0.000000  0.000000  0.000000     72.000000\n",
       "52  transport_descriptor   0.000000  0.000000  0.000000     33.000000\n",
       "53        transport_name   0.000000  0.000000  0.000000     52.000000\n",
       "54        transport_type   0.000000  0.000000  0.000000    508.000000\n",
       "55    weather_descriptor   0.699083  0.524072  0.599057    727.000000\n",
       "56              accuracy   0.812529  0.812529  0.812529      0.812529\n",
       "57             macro avg   0.385626  0.277476  0.309742  92073.000000\n",
       "58          weighted avg   0.776102  0.812529  0.790506  92073.000000"
      ]
     },
     "execution_count": 7,
     "metadata": {},
     "output_type": "execute_result"
    }
   ],
   "source": [
    "entity_report_df"
   ]
  },
  {
   "cell_type": "markdown",
   "metadata": {},
   "source": [
    "Let's have a look at the report plotted for us"
   ]
  },
  {
   "cell_type": "code",
   "execution_count": 8,
   "metadata": {},
   "outputs": [
    {
     "data": {
      "image/png": "[encoded data removed]",
      "text/plain": [
       "<Figure size 864x1152 with 1 Axes>"
      ]
     },
     "metadata": {
      "needs_background": "light"
     },
     "output_type": "display_data"
    }
   ],
   "source": [
    "Analytics.plot_report(entity_report_df)"
   ]
  },
  {
   "cell_type": "markdown",
   "metadata": {},
   "source": [
    "We will need to extract out the entity types from the dataset. We need this to calculate the precentage of entities, to filter out any domains that have too few entities for benchmarking by domain instead of all domains together."
   ]
  },
  {
   "cell_type": "code",
   "execution_count": 9,
   "metadata": {},
   "outputs": [
    {
     "name": "stderr",
     "output_type": "stream",
     "text": [
      "/home/bartmoss/code/NLU-engine-prototype-benchmarks/.venv/lib/python3.7/site-packages/ipykernel_launcher.py:2: SettingWithCopyWarning: \n",
      "A value is trying to be set on a copy of a slice from a DataFrame.\n",
      "Try using .loc[row_indexer,col_indexer] = value instead\n",
      "\n",
      "See the caveats in the documentation: https://pandas.pydata.org/pandas-docs/stable/user_guide/indexing.html#returning-a-view-versus-a-copy\n",
      "  \n"
     ]
    }
   ],
   "source": [
    "removed_nlu_data_refined_df['entities'] = removed_nlu_data_refined_df['answer_annotation'].apply(\n",
    "    EntityExtractor.extract_entities)"
   ]
  },
  {
   "cell_type": "code",
   "execution_count": 10,
   "metadata": {},
   "outputs": [
    {
     "name": "stderr",
     "output_type": "stream",
     "text": [
      "/home/bartmoss/code/NLU-engine-prototype-benchmarks/.venv/lib/python3.7/site-packages/ipykernel_launcher.py:2: SettingWithCopyWarning: \n",
      "A value is trying to be set on a copy of a slice from a DataFrame.\n",
      "Try using .loc[row_indexer,col_indexer] = value instead\n",
      "\n",
      "See the caveats in the documentation: https://pandas.pydata.org/pandas-docs/stable/user_guide/indexing.html#returning-a-view-versus-a-copy\n",
      "  \n"
     ]
    }
   ],
   "source": [
    "removed_nlu_data_refined_df['entity_types'] = removed_nlu_data_refined_df['entities'].apply(\n",
    "    EntityExtractor.extract_entity_types)"
   ]
  },
  {
   "cell_type": "code",
   "execution_count": null,
   "metadata": {},
   "outputs": [],
   "source": [
    "#TODO: add this as a method to the entity extractor class (should I still do this? YES!)"
   ]
  },
  {
   "cell_type": "code",
   "execution_count": 11,
   "metadata": {},
   "outputs": [
    {
     "name": "stderr",
     "output_type": "stream",
     "text": [
      "/home/bartmoss/code/NLU-engine-prototype-benchmarks/.venv/lib/python3.7/site-packages/ipykernel_launcher.py:2: SettingWithCopyWarning: \n",
      "A value is trying to be set on a copy of a slice from a DataFrame.\n",
      "Try using .loc[row_indexer,col_indexer] = value instead\n",
      "\n",
      "See the caveats in the documentation: https://pandas.pydata.org/pandas-docs/stable/user_guide/indexing.html#returning-a-view-versus-a-copy\n",
      "  \n",
      "/home/bartmoss/code/NLU-engine-prototype-benchmarks/.venv/lib/python3.7/site-packages/ipykernel_launcher.py:3: SettingWithCopyWarning: \n",
      "A value is trying to be set on a copy of a slice from a DataFrame.\n",
      "Try using .loc[row_indexer,col_indexer] = value instead\n",
      "\n",
      "See the caveats in the documentation: https://pandas.pydata.org/pandas-docs/stable/user_guide/indexing.html#returning-a-view-versus-a-copy\n",
      "  This is separate from the ipykernel package so we can avoid doing imports until\n"
     ]
    }
   ],
   "source": [
    "import numpy as np\n",
    "removed_nlu_data_refined_df['entity_types'] = removed_nlu_data_refined_df['entity_types'].apply(lambda y: np.nan if len(y)==0 else y)\n",
    "removed_nlu_data_refined_df['entities'] = removed_nlu_data_refined_df['entities'].apply(lambda y: np.nan if len(y)==0 else y)"
   ]
  },
  {
   "cell_type": "code",
   "execution_count": null,
   "metadata": {},
   "outputs": [],
   "source": [
    "removed_nlu_data_refined_df"
   ]
  },
  {
   "cell_type": "code",
   "execution_count": null,
   "metadata": {},
   "outputs": [],
   "source": [
    "#TODO: update the notebook to use this method instead\n",
    "#TODO: use evaulation to get a better understanding of the data\n",
    "#TODO: refine entities from domains as individual entities"
   ]
  },
  {
   "cell_type": "code",
   "execution_count": 12,
   "metadata": {},
   "outputs": [
    {
     "name": "stdout",
     "output_type": "stream",
     "text": [
      "Evaluating entity classifier for alarm\n",
      "Evaluating entity classifier\n",
      "Cross validating with CRF(algorithm='lbfgs', all_possible_transitions=True, c1=0.1, c2=0.1,\n",
      "    keep_tempfiles=None, max_iterations=100)\n"
     ]
    },
    {
     "name": "stderr",
     "output_type": "stream",
     "text": [
      "<string>:6: VisibleDeprecationWarning: Creating an ndarray from ragged nested sequences (which is a list-or-tuple of lists-or-tuples-or ndarrays with different lengths or shapes) is deprecated. If you meant to do this, you must specify 'dtype=object' when creating the ndarray.\n",
      "/home/bartmoss/code/NLU-engine-prototype-benchmarks/.venv/lib/python3.7/site-packages/sklearn/metrics/_classification.py:1221: UndefinedMetricWarning: Precision and F-score are ill-defined and being set to 0.0 in labels with no predicted samples. Use `zero_division` parameter to control this behavior.\n",
      "  _warn_prf(average, modifier, msg_start, len(result))\n",
      "/home/bartmoss/code/NLU-engine-prototype-benchmarks/nlu_engine/main.py:190: SettingWithCopyWarning: \n",
      "A value is trying to be set on a copy of a slice from a DataFrame.\n",
      "Try using .loc[row_indexer,col_indexer] = value instead\n",
      "\n",
      "See the caveats in the documentation: https://pandas.pydata.org/pandas-docs/stable/user_guide/indexing.html#returning-a-view-versus-a-copy\n",
      "  domain_scores_df['domain'] = domain\n"
     ]
    },
    {
     "name": "stdout",
     "output_type": "stream",
     "text": [
      "Time it took to cross validate CRF(algorithm='lbfgs', all_possible_transitions=True, c1=0.1, c2=0.1,\n",
      "    keep_tempfiles=None, max_iterations=100): 0.8272426128387451\n",
      "Evaluating entity classifier for audio\n",
      "Evaluating entity classifier\n",
      "Cross validating with CRF(algorithm='lbfgs', all_possible_transitions=True, c1=0.1, c2=0.1,\n",
      "    keep_tempfiles=None, max_iterations=100)\n",
      "Time it took to cross validate CRF(algorithm='lbfgs', all_possible_transitions=True, c1=0.1, c2=0.1,\n",
      "    keep_tempfiles=None, max_iterations=100): 0.1271662712097168\n",
      "Evaluating entity classifier for iot\n",
      "Evaluating entity classifier\n",
      "Cross validating with CRF(algorithm='lbfgs', all_possible_transitions=True, c1=0.1, c2=0.1,\n",
      "    keep_tempfiles=None, max_iterations=100)\n",
      "Time it took to cross validate CRF(algorithm='lbfgs', all_possible_transitions=True, c1=0.1, c2=0.1,\n",
      "    keep_tempfiles=None, max_iterations=100): 1.35011887550354\n",
      "Evaluating entity classifier for calendar\n",
      "Evaluating entity classifier\n",
      "Cross validating with CRF(algorithm='lbfgs', all_possible_transitions=True, c1=0.1, c2=0.1,\n",
      "    keep_tempfiles=None, max_iterations=100)\n",
      "Time it took to cross validate CRF(algorithm='lbfgs', all_possible_transitions=True, c1=0.1, c2=0.1,\n",
      "    keep_tempfiles=None, max_iterations=100): 5.920307636260986\n",
      "Evaluating entity classifier for play\n",
      "Evaluating entity classifier\n",
      "Cross validating with CRF(algorithm='lbfgs', all_possible_transitions=True, c1=0.1, c2=0.1,\n",
      "    keep_tempfiles=None, max_iterations=100)\n",
      "Time it took to cross validate CRF(algorithm='lbfgs', all_possible_transitions=True, c1=0.1, c2=0.1,\n",
      "    keep_tempfiles=None, max_iterations=100): 5.7313244342803955\n",
      "Evaluating entity classifier for general\n",
      "general has 0.9534007195477129% non-entities. It is too sparse to evaluate.\n",
      "Evaluating entity classifier for datetime\n",
      "Evaluating entity classifier\n",
      "Cross validating with CRF(algorithm='lbfgs', all_possible_transitions=True, c1=0.1, c2=0.1,\n",
      "    keep_tempfiles=None, max_iterations=100)\n",
      "Time it took to cross validate CRF(algorithm='lbfgs', all_possible_transitions=True, c1=0.1, c2=0.1,\n",
      "    keep_tempfiles=None, max_iterations=100): 0.8549182415008545\n",
      "Evaluating entity classifier for takeaway\n",
      "Evaluating entity classifier\n",
      "Cross validating with CRF(algorithm='lbfgs', all_possible_transitions=True, c1=0.1, c2=0.1,\n",
      "    keep_tempfiles=None, max_iterations=100)\n",
      "Time it took to cross validate CRF(algorithm='lbfgs', all_possible_transitions=True, c1=0.1, c2=0.1,\n",
      "    keep_tempfiles=None, max_iterations=100): 0.8168644905090332\n",
      "Evaluating entity classifier for news\n",
      "Evaluating entity classifier\n",
      "Cross validating with CRF(algorithm='lbfgs', all_possible_transitions=True, c1=0.1, c2=0.1,\n",
      "    keep_tempfiles=None, max_iterations=100)\n",
      "Time it took to cross validate CRF(algorithm='lbfgs', all_possible_transitions=True, c1=0.1, c2=0.1,\n",
      "    keep_tempfiles=None, max_iterations=100): 1.0672588348388672\n",
      "Evaluating entity classifier for music\n",
      "Evaluating entity classifier\n",
      "Cross validating with CRF(algorithm='lbfgs', all_possible_transitions=True, c1=0.1, c2=0.1,\n",
      "    keep_tempfiles=None, max_iterations=100)\n",
      "Time it took to cross validate CRF(algorithm='lbfgs', all_possible_transitions=True, c1=0.1, c2=0.1,\n",
      "    keep_tempfiles=None, max_iterations=100): 0.15184807777404785\n",
      "Evaluating entity classifier for weather\n",
      "Evaluating entity classifier\n",
      "Cross validating with CRF(algorithm='lbfgs', all_possible_transitions=True, c1=0.1, c2=0.1,\n",
      "    keep_tempfiles=None, max_iterations=100)\n",
      "Time it took to cross validate CRF(algorithm='lbfgs', all_possible_transitions=True, c1=0.1, c2=0.1,\n",
      "    keep_tempfiles=None, max_iterations=100): 1.3890042304992676\n",
      "Evaluating entity classifier for qa\n",
      "Evaluating entity classifier\n",
      "Cross validating with CRF(algorithm='lbfgs', all_possible_transitions=True, c1=0.1, c2=0.1,\n",
      "    keep_tempfiles=None, max_iterations=100)\n",
      "Time it took to cross validate CRF(algorithm='lbfgs', all_possible_transitions=True, c1=0.1, c2=0.1,\n",
      "    keep_tempfiles=None, max_iterations=100): 3.420844316482544\n",
      "Evaluating entity classifier for recommendation\n",
      "Evaluating entity classifier\n",
      "Cross validating with CRF(algorithm='lbfgs', all_possible_transitions=True, c1=0.1, c2=0.1,\n",
      "    keep_tempfiles=None, max_iterations=100)\n",
      "Time it took to cross validate CRF(algorithm='lbfgs', all_possible_transitions=True, c1=0.1, c2=0.1,\n",
      "    keep_tempfiles=None, max_iterations=100): 1.1768653392791748\n",
      "Evaluating entity classifier for cooking\n",
      "Evaluating entity classifier\n",
      "Cross validating with CRF(algorithm='lbfgs', all_possible_transitions=True, c1=0.1, c2=0.1,\n",
      "    keep_tempfiles=None, max_iterations=100)\n",
      "Time it took to cross validate CRF(algorithm='lbfgs', all_possible_transitions=True, c1=0.1, c2=0.1,\n",
      "    keep_tempfiles=None, max_iterations=100): 0.6023600101470947\n",
      "Evaluating entity classifier for email\n",
      "Evaluating entity classifier\n",
      "Cross validating with CRF(algorithm='lbfgs', all_possible_transitions=True, c1=0.1, c2=0.1,\n",
      "    keep_tempfiles=None, max_iterations=100)\n",
      "Time it took to cross validate CRF(algorithm='lbfgs', all_possible_transitions=True, c1=0.1, c2=0.1,\n",
      "    keep_tempfiles=None, max_iterations=100): 3.2338812351226807\n",
      "Evaluating entity classifier for transport\n",
      "Evaluating entity classifier\n",
      "Cross validating with CRF(algorithm='lbfgs', all_possible_transitions=True, c1=0.1, c2=0.1,\n",
      "    keep_tempfiles=None, max_iterations=100)\n",
      "Time it took to cross validate CRF(algorithm='lbfgs', all_possible_transitions=True, c1=0.1, c2=0.1,\n",
      "    keep_tempfiles=None, max_iterations=100): 2.104379415512085\n",
      "Evaluating entity classifier for lists\n",
      "Evaluating entity classifier\n",
      "Cross validating with CRF(algorithm='lbfgs', all_possible_transitions=True, c1=0.1, c2=0.1,\n",
      "    keep_tempfiles=None, max_iterations=100)\n",
      "Time it took to cross validate CRF(algorithm='lbfgs', all_possible_transitions=True, c1=0.1, c2=0.1,\n",
      "    keep_tempfiles=None, max_iterations=100): 0.8901448249816895\n"
     ]
    }
   ],
   "source": [
    "domain_entity_reports_df = NLUEngine.get_entity_reports_for_domains(removed_nlu_data_refined_df)"
   ]
  },
  {
   "cell_type": "code",
   "execution_count": null,
   "metadata": {},
   "outputs": [],
   "source": [
    "domain_entity_reports_df"
   ]
  },
  {
   "cell_type": "code",
   "execution_count": 13,
   "metadata": {},
   "outputs": [],
   "source": [
    "domain_entity_reports_df = domain_entity_reports_df[domain_entity_reports_df['entity-type'].str.contains(\n",
    "    'weighted avg')].sort_values(by='f1-score', ascending=True)"
   ]
  },
  {
   "cell_type": "code",
   "execution_count": null,
   "metadata": {},
   "outputs": [],
   "source": [
    "domain_entity_reports_df"
   ]
  },
  {
   "cell_type": "code",
   "execution_count": 14,
   "metadata": {},
   "outputs": [],
   "source": [
    "import matplotlib.pyplot as plt"
   ]
  },
  {
   "cell_type": "code",
   "execution_count": 15,
   "metadata": {},
   "outputs": [
    {
     "data": {
      "image/png": "[encoded data removed]",
      "text/plain": [
       "<Figure size 864x1152 with 1 Axes>"
      ]
     },
     "metadata": {
      "needs_background": "light"
     },
     "output_type": "display_data"
    }
   ],
   "source": [
    "#TODO: rename plot_report to plot_intent_report and this code below should be a method called plot_entity_report\n",
    "label = domain_entity_reports_df.columns[5]\n",
    "\n",
    "fig, ax = plt.subplots()\n",
    "graph_report_df = domain_entity_reports_df.sort_values(\n",
    "            by='f1-score', ascending=True)\n",
    "y_axis = np.arange(len(graph_report_df[label]))\n",
    "\n",
    "ax.barh(y_axis, graph_report_df['f1-score'],\n",
    "        align='center', color='b')\n",
    "\n",
    "fig.set_figheight(16)\n",
    "fig.set_figwidth(12)\n",
    "\n",
    "ax.set_title(f'f1-scores by {label}', fontsize=24)\n",
    "ax.set_xlabel(\"f1-score\", fontsize=18)\n",
    "ax.tick_params(axis='x', labelsize=18)\n",
    "ax.set_ylabel(label, fontsize=18)\n",
    "ax.set_yticks(y_axis, graph_report_df[label], fontsize=16)\n",
    "fig.tight_layout()"
   ]
  },
  {
   "cell_type": "code",
   "execution_count": null,
   "metadata": {},
   "outputs": [],
   "source": [
    "#TODO: load saved model\n",
    "#TODO: compare the create_entity_tagged_utterance with the annotated_utterance for what doesn't match\n",
    "#TODO: Get diff between annotated_utterance and create_entity_tagged_utterance\n",
    "#TODO: Extract out the entity types that are different from the annotated_utterance\n",
    "#TODO: Get percentage of failure by entity and graph them"
   ]
  },
  {
   "cell_type": "markdown",
   "metadata": {},
   "source": [
    "If you don't already have a saved model (for the default data set there is already one), you can train a model and save it."
   ]
  },
  {
   "cell_type": "code",
   "execution_count": null,
   "metadata": {},
   "outputs": [],
   "source": [
    "crf_model = NLUEngine.train_entity_classifier(removed_nlu_data_refined_df)"
   ]
  },
  {
   "cell_type": "code",
   "execution_count": null,
   "metadata": {},
   "outputs": [],
   "source": [
    "model_path = 'models/analytics/entity_tagger.sav'"
   ]
  },
  {
   "cell_type": "code",
   "execution_count": null,
   "metadata": {},
   "outputs": [],
   "source": [
    "DataUtils.pickle_model(classifier=crf_model, model_path=model_path)"
   ]
  },
  {
   "cell_type": "markdown",
   "metadata": {},
   "source": [
    "You can open it from here."
   ]
  },
  {
   "cell_type": "code",
   "execution_count": 16,
   "metadata": {},
   "outputs": [],
   "source": [
    "model_path = 'models/analytics/entity_tagger.sav'"
   ]
  },
  {
   "cell_type": "code",
   "execution_count": 17,
   "metadata": {},
   "outputs": [],
   "source": [
    "crf_model = DataUtils.import_pickled_model(model_path)"
   ]
  },
  {
   "cell_type": "markdown",
   "metadata": {},
   "source": [
    "Now, let's run it across our data set to get the `predicted_tagging`."
   ]
  },
  {
   "cell_type": "code",
   "execution_count": 18,
   "metadata": {},
   "outputs": [
    {
     "name": "stderr",
     "output_type": "stream",
     "text": [
      "/home/bartmoss/code/NLU-engine-prototype-benchmarks/.venv/lib/python3.7/site-packages/ipykernel_launcher.py:2: SettingWithCopyWarning: \n",
      "A value is trying to be set on a copy of a slice from a DataFrame.\n",
      "Try using .loc[row_indexer,col_indexer] = value instead\n",
      "\n",
      "See the caveats in the documentation: https://pandas.pydata.org/pandas-docs/stable/user_guide/indexing.html#returning-a-view-versus-a-copy\n",
      "  \n"
     ]
    }
   ],
   "source": [
    "removed_nlu_data_refined_df['predicted_tagging'] = removed_nlu_data_refined_df['answer_normalised'].apply(\n",
    "    lambda x: NLUEngine.create_entity_tagged_utterance(x, crf_model))"
   ]
  },
  {
   "cell_type": "code",
   "execution_count": null,
   "metadata": {},
   "outputs": [],
   "source": [
    "removed_nlu_data_refined_df"
   ]
  },
  {
   "cell_type": "markdown",
   "metadata": {},
   "source": [
    "We can now load a dataset of all of the incorrectly predicted entities."
   ]
  },
  {
   "cell_type": "code",
   "execution_count": 19,
   "metadata": {},
   "outputs": [],
   "source": [
    "incorrect_predicted_entities_df = removed_nlu_data_refined_df[removed_nlu_data_refined_df['answer_annotation']\n",
    "                            != removed_nlu_data_refined_df['predicted_tagging']]"
   ]
  },
  {
   "cell_type": "code",
   "execution_count": null,
   "metadata": {},
   "outputs": [],
   "source": [
    "incorrect_predicted_entities_df"
   ]
  },
  {
   "cell_type": "code",
   "execution_count": null,
   "metadata": {},
   "outputs": [],
   "source": [
    "# TODO: have user choose a domain, make report about entities in the domain,...\n",
    "# TODO: after the report, does the user clean all entities in the domain at once, or by individual entity type?\n",
    "# TODO: review from here below, this code is a bit older than the above code"
   ]
  },
  {
   "cell_type": "code",
   "execution_count": 20,
   "metadata": {},
   "outputs": [],
   "source": [
    "domain_selection = MacroDataRefinement.list_and_select_domain(\n",
    "    removed_nlu_data_refined_df)"
   ]
  },
  {
   "cell_type": "code",
   "execution_count": 21,
   "metadata": {},
   "outputs": [
    {
     "name": "stdout",
     "output_type": "stream",
     "text": [
      "Successfully loaded dataframe\n"
     ]
    }
   ],
   "source": [
    "domain_df = DataUtils.get_domain_df(\n",
    "    removed_nlu_data_refined_df, domain_selection)"
   ]
  },
  {
   "cell_type": "code",
   "execution_count": 26,
   "metadata": {},
   "outputs": [
    {
     "data": {
      "text/html": [
       "<div>\n",
       "<style scoped>\n",
       "    .dataframe tbody tr th:only-of-type {\n",
       "        vertical-align: middle;\n",
       "    }\n",
       "\n",
       "    .dataframe tbody tr th {\n",
       "        vertical-align: top;\n",
       "    }\n",
       "\n",
       "    .dataframe thead th {\n",
       "        text-align: right;\n",
       "    }\n",
       "</style>\n",
       "<table border=\"1\" class=\"dataframe\">\n",
       "  <thead>\n",
       "    <tr style=\"text-align: right;\">\n",
       "      <th></th>\n",
       "      <th>question</th>\n",
       "      <th>answer_normalised</th>\n",
       "      <th>scenario</th>\n",
       "      <th>intent</th>\n",
       "      <th>predicted_label</th>\n",
       "      <th>answer_annotation</th>\n",
       "      <th>entities</th>\n",
       "      <th>entity_types</th>\n",
       "      <th>predicted_tagging</th>\n",
       "    </tr>\n",
       "  </thead>\n",
       "  <tbody>\n",
       "    <tr>\n",
       "      <th>0</th>\n",
       "      <td>Write what you would tell your PDA in the foll...</td>\n",
       "      <td>wake me up at five am this week</td>\n",
       "      <td>alarm</td>\n",
       "      <td>alarm_set</td>\n",
       "      <td>alarm_set</td>\n",
       "      <td>wake me up at [time : five am] [date : this week]</td>\n",
       "      <td>[{'type': 'time', 'words': ['five', 'am']}, {'...</td>\n",
       "      <td>time,date</td>\n",
       "      <td>wake me up at [time : five am] [date : this week]</td>\n",
       "    </tr>\n",
       "    <tr>\n",
       "      <th>1</th>\n",
       "      <td>Write what you would tell your PDA in the foll...</td>\n",
       "      <td>wake me up at nine am on friday</td>\n",
       "      <td>alarm</td>\n",
       "      <td>alarm_set</td>\n",
       "      <td>alarm_set</td>\n",
       "      <td>wake me up at [time : nine am] on [date : friday]</td>\n",
       "      <td>[{'type': 'time', 'words': ['nine', 'am']}, {'...</td>\n",
       "      <td>time,date</td>\n",
       "      <td>wake me up at [time : nine am] on [date : friday]</td>\n",
       "    </tr>\n",
       "    <tr>\n",
       "      <th>2</th>\n",
       "      <td>Write what you would tell your PDA in the foll...</td>\n",
       "      <td>set an alarm for two hours from now</td>\n",
       "      <td>alarm</td>\n",
       "      <td>alarm_set</td>\n",
       "      <td>alarm_set</td>\n",
       "      <td>set an alarm for [time : two hours from now]</td>\n",
       "      <td>[{'type': 'time', 'words': ['two', 'hours', 'f...</td>\n",
       "      <td>time</td>\n",
       "      <td>set an alarm for [time : two hours from now]</td>\n",
       "    </tr>\n",
       "    <tr>\n",
       "      <th>42</th>\n",
       "      <td>Write what you would tell your PDA in the foll...</td>\n",
       "      <td>cancel my seven am alarm</td>\n",
       "      <td>alarm</td>\n",
       "      <td>alarm_remove</td>\n",
       "      <td>alarm_remove</td>\n",
       "      <td>cancel my [time : seven am] alarm</td>\n",
       "      <td>[{'type': 'time', 'words': ['seven', 'am']}]</td>\n",
       "      <td>time</td>\n",
       "      <td>cancel my [time : seven am] alarm</td>\n",
       "    </tr>\n",
       "    <tr>\n",
       "      <th>43</th>\n",
       "      <td>Write what you would tell your PDA in the foll...</td>\n",
       "      <td>remove the alarm set for ten pm</td>\n",
       "      <td>alarm</td>\n",
       "      <td>alarm_remove</td>\n",
       "      <td>alarm_remove</td>\n",
       "      <td>remove the alarm set for [time : ten pm]</td>\n",
       "      <td>[{'type': 'time', 'words': ['ten', 'pm']}]</td>\n",
       "      <td>time</td>\n",
       "      <td>remove the alarm set for [time : ten pm]</td>\n",
       "    </tr>\n",
       "    <tr>\n",
       "      <th>...</th>\n",
       "      <td>...</td>\n",
       "      <td>...</td>\n",
       "      <td>...</td>\n",
       "      <td>...</td>\n",
       "      <td>...</td>\n",
       "      <td>...</td>\n",
       "      <td>...</td>\n",
       "      <td>...</td>\n",
       "      <td>...</td>\n",
       "    </tr>\n",
       "    <tr>\n",
       "      <th>10720</th>\n",
       "      <td>Write what you would tell your PDA in the foll...</td>\n",
       "      <td>make an alarm for five pm on tuesday</td>\n",
       "      <td>alarm</td>\n",
       "      <td>alarm_set</td>\n",
       "      <td>alarm_set</td>\n",
       "      <td>make an alarm for [time : five pm] on [date : ...</td>\n",
       "      <td>[{'type': 'time', 'words': ['five', 'pm']}, {'...</td>\n",
       "      <td>time,date</td>\n",
       "      <td>make an alarm for [time : five pm] on [date : ...</td>\n",
       "    </tr>\n",
       "    <tr>\n",
       "      <th>10721</th>\n",
       "      <td>Write what you would tell your PDA in the foll...</td>\n",
       "      <td>alarm five pm tuesday</td>\n",
       "      <td>alarm</td>\n",
       "      <td>alarm_set</td>\n",
       "      <td>alarm_set</td>\n",
       "      <td>alarm [time : five pm] [date : tuesday]</td>\n",
       "      <td>[{'type': 'time', 'words': ['five', 'pm']}, {'...</td>\n",
       "      <td>time,date</td>\n",
       "      <td>alarm [time : five pm] [date : tuesday]</td>\n",
       "    </tr>\n",
       "    <tr>\n",
       "      <th>10722</th>\n",
       "      <td>Write what you would tell your PDA in the foll...</td>\n",
       "      <td>set my calendar for an alarm at five pm tuesday</td>\n",
       "      <td>alarm</td>\n",
       "      <td>alarm_set</td>\n",
       "      <td>alarm_set</td>\n",
       "      <td>set my calendar for an alarm at [time : five p...</td>\n",
       "      <td>[{'type': 'time', 'words': ['five', 'pm']}, {'...</td>\n",
       "      <td>time,date</td>\n",
       "      <td>set my calendar for an alarm at [time : five p...</td>\n",
       "    </tr>\n",
       "    <tr>\n",
       "      <th>10727</th>\n",
       "      <td>Write what you would tell your PDA in the foll...</td>\n",
       "      <td>set an alarm for four pm tuesday</td>\n",
       "      <td>alarm</td>\n",
       "      <td>alarm_set</td>\n",
       "      <td>alarm_set</td>\n",
       "      <td>set an alarm for [time : four pm] [date : tues...</td>\n",
       "      <td>[{'type': 'time', 'words': ['four', 'pm']}, {'...</td>\n",
       "      <td>time,date</td>\n",
       "      <td>set an alarm for [time : four pm] [date : tues...</td>\n",
       "    </tr>\n",
       "    <tr>\n",
       "      <th>17347</th>\n",
       "      <td>How would you ask your PDA a general knowledge...</td>\n",
       "      <td>when was the last alarm set</td>\n",
       "      <td>alarm</td>\n",
       "      <td>alarm_query</td>\n",
       "      <td>alarm_set</td>\n",
       "      <td>when was the last alarm set</td>\n",
       "      <td>NaN</td>\n",
       "      <td>NaN</td>\n",
       "      <td>when was the last alarm set</td>\n",
       "    </tr>\n",
       "  </tbody>\n",
       "</table>\n",
       "<p>536 rows × 9 columns</p>\n",
       "</div>"
      ],
      "text/plain": [
       "                                                question  \\\n",
       "0      Write what you would tell your PDA in the foll...   \n",
       "1      Write what you would tell your PDA in the foll...   \n",
       "2      Write what you would tell your PDA in the foll...   \n",
       "42     Write what you would tell your PDA in the foll...   \n",
       "43     Write what you would tell your PDA in the foll...   \n",
       "...                                                  ...   \n",
       "10720  Write what you would tell your PDA in the foll...   \n",
       "10721  Write what you would tell your PDA in the foll...   \n",
       "10722  Write what you would tell your PDA in the foll...   \n",
       "10727  Write what you would tell your PDA in the foll...   \n",
       "17347  How would you ask your PDA a general knowledge...   \n",
       "\n",
       "                                     answer_normalised scenario        intent  \\\n",
       "0                      wake me up at five am this week    alarm     alarm_set   \n",
       "1                      wake me up at nine am on friday    alarm     alarm_set   \n",
       "2                  set an alarm for two hours from now    alarm     alarm_set   \n",
       "42                            cancel my seven am alarm    alarm  alarm_remove   \n",
       "43                     remove the alarm set for ten pm    alarm  alarm_remove   \n",
       "...                                                ...      ...           ...   \n",
       "10720             make an alarm for five pm on tuesday    alarm     alarm_set   \n",
       "10721                            alarm five pm tuesday    alarm     alarm_set   \n",
       "10722  set my calendar for an alarm at five pm tuesday    alarm     alarm_set   \n",
       "10727                 set an alarm for four pm tuesday    alarm     alarm_set   \n",
       "17347                      when was the last alarm set    alarm   alarm_query   \n",
       "\n",
       "      predicted_label                                  answer_annotation  \\\n",
       "0           alarm_set  wake me up at [time : five am] [date : this week]   \n",
       "1           alarm_set  wake me up at [time : nine am] on [date : friday]   \n",
       "2           alarm_set       set an alarm for [time : two hours from now]   \n",
       "42       alarm_remove                  cancel my [time : seven am] alarm   \n",
       "43       alarm_remove           remove the alarm set for [time : ten pm]   \n",
       "...               ...                                                ...   \n",
       "10720       alarm_set  make an alarm for [time : five pm] on [date : ...   \n",
       "10721       alarm_set            alarm [time : five pm] [date : tuesday]   \n",
       "10722       alarm_set  set my calendar for an alarm at [time : five p...   \n",
       "10727       alarm_set  set an alarm for [time : four pm] [date : tues...   \n",
       "17347       alarm_set                        when was the last alarm set   \n",
       "\n",
       "                                                entities entity_types  \\\n",
       "0      [{'type': 'time', 'words': ['five', 'am']}, {'...    time,date   \n",
       "1      [{'type': 'time', 'words': ['nine', 'am']}, {'...    time,date   \n",
       "2      [{'type': 'time', 'words': ['two', 'hours', 'f...         time   \n",
       "42          [{'type': 'time', 'words': ['seven', 'am']}]         time   \n",
       "43            [{'type': 'time', 'words': ['ten', 'pm']}]         time   \n",
       "...                                                  ...          ...   \n",
       "10720  [{'type': 'time', 'words': ['five', 'pm']}, {'...    time,date   \n",
       "10721  [{'type': 'time', 'words': ['five', 'pm']}, {'...    time,date   \n",
       "10722  [{'type': 'time', 'words': ['five', 'pm']}, {'...    time,date   \n",
       "10727  [{'type': 'time', 'words': ['four', 'pm']}, {'...    time,date   \n",
       "17347                                                NaN          NaN   \n",
       "\n",
       "                                       predicted_tagging  \n",
       "0      wake me up at [time : five am] [date : this week]  \n",
       "1      wake me up at [time : nine am] on [date : friday]  \n",
       "2           set an alarm for [time : two hours from now]  \n",
       "42                     cancel my [time : seven am] alarm  \n",
       "43              remove the alarm set for [time : ten pm]  \n",
       "...                                                  ...  \n",
       "10720  make an alarm for [time : five pm] on [date : ...  \n",
       "10721            alarm [time : five pm] [date : tuesday]  \n",
       "10722  set my calendar for an alarm at [time : five p...  \n",
       "10727  set an alarm for [time : four pm] [date : tues...  \n",
       "17347                        when was the last alarm set  \n",
       "\n",
       "[536 rows x 9 columns]"
      ]
     },
     "execution_count": 26,
     "metadata": {},
     "output_type": "execute_result"
    }
   ],
   "source": [
    "domain_df"
   ]
  },
  {
   "cell_type": "code",
   "execution_count": 28,
   "metadata": {},
   "outputs": [],
   "source": [
    "#TODO remove this, it's just for testing\n",
    "from sklearn.metrics import f1_score\n",
    "\n",
    "\n",
    "def get_incorrect_predicted_entities_report(domain_df, entity_report_df, domain_entity_reports_df):\n",
    "    \"\"\"\n",
    "        Get a report of the incorrectly predicted entities\n",
    "        :param nlu_domain_df: pandas dataframe\n",
    "        :param incorrect_intent_predictions_df: pandas dataframe\n",
    "        :return: pandas dataframe\n",
    "        \"\"\"\n",
    "    domain_selection = domain_df['scenario'].unique().tolist()[0]\n",
    "    entity_types_df = domain_df.dropna(subset=['entity_types'])\n",
    "    entries = entity_types_df['entity_types'].apply(\n",
    "        lambda x: x.split(',')).to_list()\n",
    "\n",
    "    domain_entity_types = set(sum(entries, []))\n",
    "\n",
    "    domain_f1_score = domain_entity_reports_df[\n",
    "        domain_entity_reports_df['domain'] == domain_selection\n",
    "        ]['f1-score'].values[0]\n",
    "\n",
    "    print(f'Domain: {domain_selection}\\nf1-score: {domain_f1_score}')\n",
    "\n",
    "    for entity_type in domain_entity_types:\n",
    "        entity_entries_df = entity_types_df[\n",
    "            entity_types_df['entity_types'].str.contains(entity_type)\n",
    "            ]\n",
    "        correct_entries_df = entity_entries_df[\n",
    "            entity_entries_df['answer_annotation'] == entity_entries_df['predicted_tagging']\n",
    "            ]\n",
    "        \n",
    "        try:\n",
    "            correct_utterance_example = correct_entries_df['answer_annotation'].iloc[0]\n",
    "        except:\n",
    "            correct_utterance_example = 'There are no correct utterances!'\n",
    "\n",
    "        f1_score = entity_report_df[\n",
    "            entity_report_df['entity-type'] == entity_type\n",
    "            ]['f1-score'].values[0]\n",
    "        \n",
    "        print(\n",
    "            f'entity type: {entity_type}\\nf1-score: {f1_score}\\n correct utterance: {correct_utterance_example}'\n",
    "            )"
   ]
  },
  {
   "cell_type": "code",
   "execution_count": 29,
   "metadata": {},
   "outputs": [
    {
     "name": "stdout",
     "output_type": "stream",
     "text": [
      "Domain: alarm\n",
      "f1-score: 0.9361307738051181\n",
      "entity type: general_frequency\n",
      "f1-score: 0.17391304347826086\n",
      " correct utterance: set alarm for [time : eight] [general_frequency : every weekday]\n",
      "entity type: timeofday\n",
      "f1-score: 0.8678304239401496\n",
      " correct utterance: confirm alarm for [date : tomorrow] [timeofday : morning]\n",
      "entity type: event_name\n",
      "f1-score: 0.3860614397065566\n",
      " correct utterance: please remove the alarm set for [date : wednesday] called [event_name : kickball]\n",
      "entity type: alarm_type\n",
      "f1-score: 0.0\n",
      " correct utterance: please ring the [alarm_type : wake up] alarm at [time : eight am] next [date : saturday]\n",
      "entity type: date\n",
      "f1-score: 0.8751160631383472\n",
      " correct utterance: wake me up at [time : five am] [date : this week]\n",
      "entity type: person\n",
      "f1-score: 0.5597667638483966\n",
      " correct utterance: make an alarm for the [event_name : meeting] with [person : bob] at [time : seven] [date : today]\n",
      "entity type: house_place\n",
      "f1-score: 0.7112375533428166\n",
      " correct utterance: what alarms are set in the [house_place : house]\n",
      "entity type: time\n",
      "f1-score: 0.8134126554894537\n",
      " correct utterance: wake me up at [time : five am] [date : this week]\n",
      "entity type: device_type\n",
      "f1-score: 0.7345597897503285\n",
      " correct utterance: There are no correct utterances!\n",
      "entity type: order_type\n",
      "f1-score: 0.6291390728476821\n",
      " correct utterance: if my package shows that it is for [order_type : delivery] [date : tomorrow] can you set up an alarm [time : one hour after] thank you\n"
     ]
    }
   ],
   "source": [
    "get_incorrect_predicted_entities_report(\n",
    "    domain_df, entity_report_df, domain_entity_reports_df)"
   ]
  },
  {
   "cell_type": "code",
   "execution_count": 22,
   "metadata": {},
   "outputs": [
    {
     "name": "stdout",
     "output_type": "stream",
     "text": [
      "Domain: alarm\n",
      "f1-score: 0.9361307738051181\n",
      "Entity type: house_place\n",
      "Correct entities: 1\n",
      "Incorrect entities: 0\n",
      "Total entities: 1\n",
      "entity type: house_place\n",
      "f1-score: 0.7112375533428166\n",
      " correct utterance: what alarms are set in the [house_place : house]\n",
      "Entity type: person\n",
      "Correct entities: 1\n",
      "Incorrect entities: 1\n",
      "Total entities: 2\n",
      "entity type: person\n",
      "f1-score: 0.5597667638483966\n",
      " correct utterance: make an alarm for the [event_name : meeting] with [person : bob] at [time : seven] [date : today]\n",
      "Entity type: alarm_type\n",
      "Correct entities: 11\n",
      "Incorrect entities: 2\n",
      "Total entities: 13\n",
      "entity type: alarm_type\n",
      "f1-score: 0.0\n",
      " correct utterance: please ring the [alarm_type : wake up] alarm at [time : eight am] next [date : saturday]\n",
      "Entity type: general_frequency\n",
      "Correct entities: 3\n",
      "Incorrect entities: 0\n",
      "Total entities: 3\n",
      "entity type: general_frequency\n",
      "f1-score: 0.17391304347826086\n",
      " correct utterance: set alarm for [time : eight] [general_frequency : every weekday]\n",
      "Entity type: date\n",
      "Correct entities: 127\n",
      "Incorrect entities: 24\n",
      "Total entities: 151\n",
      "entity type: date\n",
      "f1-score: 0.8751160631383472\n",
      " correct utterance: wake me up at [time : five am] [date : this week]\n",
      "Entity type: device_type\n",
      "Correct entities: 0\n",
      "Incorrect entities: 1\n",
      "Total entities: 1\n",
      "entity type: device_type\n",
      "f1-score: 0.7345597897503285\n",
      " correct utterance: There are no correct utterances!\n",
      "Entity type: event_name\n",
      "Correct entities: 11\n",
      "Incorrect entities: 10\n",
      "Total entities: 21\n",
      "entity type: event_name\n",
      "f1-score: 0.3860614397065566\n",
      " correct utterance: please remove the alarm set for [date : wednesday] called [event_name : kickball]\n",
      "Entity type: timeofday\n",
      "Correct entities: 37\n",
      "Incorrect entities: 30\n",
      "Total entities: 67\n",
      "entity type: timeofday\n",
      "f1-score: 0.8678304239401496\n",
      " correct utterance: confirm alarm for [date : tomorrow] [timeofday : morning]\n",
      "Entity type: time\n",
      "Correct entities: 222\n",
      "Incorrect entities: 56\n",
      "Total entities: 278\n",
      "entity type: time\n",
      "f1-score: 0.8134126554894537\n",
      " correct utterance: wake me up at [time : five am] [date : this week]\n",
      "Entity type: order_type\n",
      "Correct entities: 1\n",
      "Incorrect entities: 0\n",
      "Total entities: 1\n",
      "entity type: order_type\n",
      "f1-score: 0.6291390728476821\n",
      " correct utterance: if my package shows that it is for [order_type : delivery] [date : tomorrow] can you set up an alarm [time : one hour after] thank you\n"
     ]
    }
   ],
   "source": [
    "#TODO: check out why this doesn't work from the class but works from the function below!\n",
    "incorrect_predicted_entities_report = MacroEntityRefinement.get_incorrect_predicted_entities_report(\n",
    "    domain_df, entity_report_df, domain_entity_reports_df)\n",
    "\n",
    "#TODO: Have user go through refinement in batches of 100 or less per domain\n"
   ]
  },
  {
   "cell_type": "code",
   "execution_count": 30,
   "metadata": {},
   "outputs": [],
   "source": [
    "def get_incorrect_predicted_entities_report(domain_df, entity_report_df, domain_entity_reports_df):\n",
    "    \"\"\"\n",
    "        Get a report of the incorrectly predicted entities\n",
    "        :param nlu_domain_df: pandas dataframe\n",
    "        :param incorrect_intent_predictions_df: pandas dataframe\n",
    "        :return: pandas dataframe\n",
    "        \"\"\"\n",
    "\n",
    "    incorrect_predicted_entities_report = {}\n",
    "    \n",
    "    domain_selection = domain_df['scenario'].unique().tolist()[0]\n",
    "    entity_types_df = domain_df.dropna(subset=['entity_types'])\n",
    "    entries = entity_types_df['entity_types'].apply(\n",
    "        lambda x: x.split(',')).to_list()\n",
    "\n",
    "    domain_entity_types = set(sum(entries, []))\n",
    "\n",
    "    domain_f1_score = domain_entity_reports_df[\n",
    "        domain_entity_reports_df['domain'] == domain_selection\n",
    "    ]['f1-score'].values[0]\n",
    "\n",
    "    print(f'Domain: {domain_selection}\\nf1-score: {domain_f1_score}')\n",
    "\n",
    "    for entity_type in domain_entity_types:\n",
    "        entity_entries_df = entity_types_df[\n",
    "            entity_types_df['entity_types'].str.contains(entity_type)\n",
    "        ]\n",
    "        correct_entries_df = entity_entries_df[\n",
    "            entity_entries_df['answer_annotation'] == entity_entries_df['predicted_tagging']\n",
    "        ]\n",
    "\n",
    "        incorrect_entries_df = entity_entries_df[\n",
    "            entity_entries_df['answer_annotation'] != entity_entries_df['predicted_tagging']\n",
    "        ]\n",
    "\n",
    "        incorrect_entities_count = len(incorrect_entries_df.index)\n",
    "        correct_entities_count = len(correct_entries_df.index)\n",
    "        total_entities_count = len(entity_entries_df.index)\n",
    "        print(f'Entity type: {entity_type}')\n",
    "        print(f'Correct entities: {correct_entities_count}')\n",
    "        print(f'Incorrect entities: {incorrect_entities_count}')\n",
    "        print(f'Total entities: {total_entities_count}')\n",
    "\n",
    "        try:\n",
    "            correct_utterance_example = correct_entries_df['answer_annotation'].iloc[0]\n",
    "        except:\n",
    "            correct_utterance_example = 'There are no correct utterances!'\n",
    "\n",
    "        try:\n",
    "            incorrect_utterance_example = incorrect_entries_df['answer_annotation'].iloc[0]\n",
    "        except:\n",
    "            incorrect_utterance_example = 'There are no incorrect utterances!'\n",
    "\n",
    "        f1_score = entity_report_df[\n",
    "            entity_report_df['entity-type'] == entity_type\n",
    "        ]['f1-score'].values[0]\n",
    "\n",
    "        print(\n",
    "            f'entity type: {entity_type}\\nf1-score: {f1_score}\\n correct utterance: {correct_utterance_example}'\n",
    "        )\n",
    "\n",
    "\n",
    "        incorrect_predicted_entities_report[entity_type] = {\n",
    "            'f1-score': f1_score,\n",
    "            'total_count': total_entities_count,\n",
    "            'total_incorrect_count': incorrect_entities_count,\n",
    "            'correct utterance': correct_utterance_example,\n",
    "            'incorrect utterance': incorrect_utterance_example\n",
    "        }\n",
    "    return incorrect_predicted_entities_report"
   ]
  },
  {
   "cell_type": "code",
   "execution_count": 31,
   "metadata": {},
   "outputs": [
    {
     "name": "stdout",
     "output_type": "stream",
     "text": [
      "Domain: alarm\n",
      "f1-score: 0.9361307738051181\n",
      "Entity type: general_frequency\n",
      "Correct entities: 3\n",
      "Incorrect entities: 0\n",
      "Total entities: 3\n",
      "entity type: general_frequency\n",
      "f1-score: 0.17391304347826086\n",
      " correct utterance: set alarm for [time : eight] [general_frequency : every weekday]\n",
      "Entity type: timeofday\n",
      "Correct entities: 37\n",
      "Incorrect entities: 30\n",
      "Total entities: 67\n",
      "entity type: timeofday\n",
      "f1-score: 0.8678304239401496\n",
      " correct utterance: confirm alarm for [date : tomorrow] [timeofday : morning]\n",
      "Entity type: event_name\n",
      "Correct entities: 11\n",
      "Incorrect entities: 10\n",
      "Total entities: 21\n",
      "entity type: event_name\n",
      "f1-score: 0.3860614397065566\n",
      " correct utterance: please remove the alarm set for [date : wednesday] called [event_name : kickball]\n",
      "Entity type: alarm_type\n",
      "Correct entities: 11\n",
      "Incorrect entities: 2\n",
      "Total entities: 13\n",
      "entity type: alarm_type\n",
      "f1-score: 0.0\n",
      " correct utterance: please ring the [alarm_type : wake up] alarm at [time : eight am] next [date : saturday]\n",
      "Entity type: date\n",
      "Correct entities: 127\n",
      "Incorrect entities: 24\n",
      "Total entities: 151\n",
      "entity type: date\n",
      "f1-score: 0.8751160631383472\n",
      " correct utterance: wake me up at [time : five am] [date : this week]\n",
      "Entity type: person\n",
      "Correct entities: 1\n",
      "Incorrect entities: 1\n",
      "Total entities: 2\n",
      "entity type: person\n",
      "f1-score: 0.5597667638483966\n",
      " correct utterance: make an alarm for the [event_name : meeting] with [person : bob] at [time : seven] [date : today]\n",
      "Entity type: house_place\n",
      "Correct entities: 1\n",
      "Incorrect entities: 0\n",
      "Total entities: 1\n",
      "entity type: house_place\n",
      "f1-score: 0.7112375533428166\n",
      " correct utterance: what alarms are set in the [house_place : house]\n",
      "Entity type: time\n",
      "Correct entities: 222\n",
      "Incorrect entities: 56\n",
      "Total entities: 278\n",
      "entity type: time\n",
      "f1-score: 0.8134126554894537\n",
      " correct utterance: wake me up at [time : five am] [date : this week]\n",
      "Entity type: device_type\n",
      "Correct entities: 0\n",
      "Incorrect entities: 1\n",
      "Total entities: 1\n",
      "entity type: device_type\n",
      "f1-score: 0.7345597897503285\n",
      " correct utterance: There are no correct utterances!\n",
      "Entity type: order_type\n",
      "Correct entities: 1\n",
      "Incorrect entities: 0\n",
      "Total entities: 1\n",
      "entity type: order_type\n",
      "f1-score: 0.6291390728476821\n",
      " correct utterance: if my package shows that it is for [order_type : delivery] [date : tomorrow] can you set up an alarm [time : one hour after] thank you\n"
     ]
    }
   ],
   "source": [
    "incorrect_predicted_entities_report = get_incorrect_predicted_entities_report(\n",
    "    domain_df, entity_report_df, domain_entity_reports_df)\n"
   ]
  },
  {
   "cell_type": "code",
   "execution_count": 23,
   "metadata": {},
   "outputs": [
    {
     "data": {
      "text/html": [
       "<div id=\"a20e4b53-c1f4-4b9b-8c33-2189b4e81758\" style=\"height: 600px; width:100%;\"></div>"
      ]
     },
     "metadata": {},
     "output_type": "display_data"
    },
    {
     "data": {
      "application/javascript": "\n        require([\"https://rawgit.com/caldwell/renderjson/master/renderjson.js\"], function() {\n        document.getElementById('a20e4b53-c1f4-4b9b-8c33-2189b4e81758').appendChild(renderjson({\"house_place\": {\"f1-score\": 0.7112375533428166, \"total_count\": 1, \"total_incorrect_count\": 0, \"correct utterance\": \"what alarms are set in the [house_place : house]\", \"incorrect utterance\": \"There are no incorrect utterances!\"}, \"person\": {\"f1-score\": 0.5597667638483966, \"total_count\": 2, \"total_incorrect_count\": 1, \"correct utterance\": \"make an alarm for the [event_name : meeting] with [person : bob] at [time : seven] [date : today]\", \"incorrect utterance\": \"remove [person : finlee's] bedtime alarm\"}, \"alarm_type\": {\"f1-score\": 0.0, \"total_count\": 13, \"total_incorrect_count\": 2, \"correct utterance\": \"please ring the [alarm_type : wake up] alarm at [time : eight am] next [date : saturday]\", \"incorrect utterance\": \"did i set an alarm to [alarm_type : wake up] in the [timeofday : morning]\"}, \"general_frequency\": {\"f1-score\": 0.17391304347826086, \"total_count\": 3, \"total_incorrect_count\": 0, \"correct utterance\": \"set alarm for [time : eight] [general_frequency : every weekday]\", \"incorrect utterance\": \"There are no incorrect utterances!\"}, \"date\": {\"f1-score\": 0.8751160631383472, \"total_count\": 151, \"total_incorrect_count\": 24, \"correct utterance\": \"wake me up at [time : five am] [date : this week]\", \"incorrect utterance\": \"create an alarm at [time : four] o'clock [date : tomorrow] [timeofday : morning]\"}, \"device_type\": {\"f1-score\": 0.7345597897503285, \"total_count\": 1, \"total_incorrect_count\": 1, \"correct utterance\": \"There are no correct utterances!\", \"incorrect utterance\": \"which alarms are set in the [device_type : phone]\"}, \"event_name\": {\"f1-score\": 0.3860614397065566, \"total_count\": 21, \"total_incorrect_count\": 10, \"correct utterance\": \"please remove the alarm set for [date : wednesday] called [event_name : kickball]\", \"incorrect utterance\": \"do i have an alarm set for [timeofday : morning] [event_name : flight]\"}, \"timeofday\": {\"f1-score\": 0.8678304239401496, \"total_count\": 67, \"total_incorrect_count\": 30, \"correct utterance\": \"confirm alarm for [date : tomorrow] [timeofday : morning]\", \"incorrect utterance\": \"set an alarm at [time : six] in the [timeofday : morning]\"}, \"time\": {\"f1-score\": 0.8134126554894537, \"total_count\": 278, \"total_incorrect_count\": 56, \"correct utterance\": \"wake me up at [time : five am] [date : this week]\", \"incorrect utterance\": \"set an alarm at [time : six] in the [timeofday : morning]\"}, \"order_type\": {\"f1-score\": 0.6291390728476821, \"total_count\": 1, \"total_incorrect_count\": 0, \"correct utterance\": \"if my package shows that it is for [order_type : delivery] [date : tomorrow] can you set up an alarm [time : one hour after] thank you\", \"incorrect utterance\": \"There are no incorrect utterances!\"}}))\n        });\n        renderjson.set_show_to_level(1)\n        "
     },
     "metadata": {},
     "output_type": "display_data"
    }
   ],
   "source": [
    "RenderJSON(incorrect_predicted_entities_report)\n",
    "\n",
    "#TODO: check for overlap between the entity words and their entity types.\n",
    "# Entity words should be unique to each entity type (as much as possible) in a domain."
   ]
  },
  {
   "cell_type": "markdown",
   "metadata": {},
   "source": [
    "## Entity overlap refinement\n",
    "We want to find the entities that have overlapping entity types. Entities (the words themselves that get tagged), should very rarely have more than one entity type in a domain. If they do, then we need to refine the dataset."
   ]
  },
  {
   "cell_type": "markdown",
   "metadata": {},
   "source": [
    "take the `domain_df['entities']` and get a list of dictionaries for:\n",
    "* `id`: the original index of the row\n",
    "* `entity_type`: the entity type\n",
    "* `entity_words`: the joined words with spaces that make up the entity\n",
    "\n",
    "and then drop it into a dataframe"
   ]
  },
  {
   "cell_type": "code",
   "execution_count": 59,
   "metadata": {},
   "outputs": [],
   "source": [
    "#TODO: this will be turned into a function and put into a class for the macro entity refinement\n",
    "output_list = []\n",
    "for index, row in domain_df.iterrows():\n",
    "        if row['entities'] is not np.nan:\n",
    "            for entity in row['entities']:\n",
    "                entry_entity_dictionary = {}\n",
    "                entry_entity_dictionary['id'] = index\n",
    "                entry_entity_dictionary['entity_type'] = entity['type']\n",
    "                entry_entity_dictionary['entity_words'] = \" \".join(entity['words'])\n",
    "                output_list.append(entry_entity_dictionary)\n",
    "        else:\n",
    "            entry_entity_dictionary = {}\n",
    "            entry_entity_dictionary['id'] = index\n",
    "            entry_entity_dictionary['entity_type'] = None\n",
    "            entry_entity_dictionary['entity_words'] = None\n",
    "            output_list.append(entry_entity_dictionary)\n",
    "\n",
    "entity_type_words_df = pd.DataFrame(output_list)\n"
   ]
  },
  {
   "cell_type": "code",
   "execution_count": 128,
   "metadata": {},
   "outputs": [
    {
     "data": {
      "text/html": [
       "<div>\n",
       "<style scoped>\n",
       "    .dataframe tbody tr th:only-of-type {\n",
       "        vertical-align: middle;\n",
       "    }\n",
       "\n",
       "    .dataframe tbody tr th {\n",
       "        vertical-align: top;\n",
       "    }\n",
       "\n",
       "    .dataframe thead th {\n",
       "        text-align: right;\n",
       "    }\n",
       "</style>\n",
       "<table border=\"1\" class=\"dataframe\">\n",
       "  <thead>\n",
       "    <tr style=\"text-align: right;\">\n",
       "      <th></th>\n",
       "      <th>id</th>\n",
       "      <th>entity_type</th>\n",
       "      <th>entity_words</th>\n",
       "    </tr>\n",
       "  </thead>\n",
       "  <tbody>\n",
       "    <tr>\n",
       "      <th>0</th>\n",
       "      <td>0</td>\n",
       "      <td>time</td>\n",
       "      <td>five am</td>\n",
       "    </tr>\n",
       "    <tr>\n",
       "      <th>1</th>\n",
       "      <td>0</td>\n",
       "      <td>date</td>\n",
       "      <td>this week</td>\n",
       "    </tr>\n",
       "    <tr>\n",
       "      <th>2</th>\n",
       "      <td>1</td>\n",
       "      <td>time</td>\n",
       "      <td>nine am</td>\n",
       "    </tr>\n",
       "    <tr>\n",
       "      <th>3</th>\n",
       "      <td>1</td>\n",
       "      <td>date</td>\n",
       "      <td>friday</td>\n",
       "    </tr>\n",
       "    <tr>\n",
       "      <th>4</th>\n",
       "      <td>2</td>\n",
       "      <td>time</td>\n",
       "      <td>two hours from now</td>\n",
       "    </tr>\n",
       "    <tr>\n",
       "      <th>...</th>\n",
       "      <td>...</td>\n",
       "      <td>...</td>\n",
       "      <td>...</td>\n",
       "    </tr>\n",
       "    <tr>\n",
       "      <th>710</th>\n",
       "      <td>10722</td>\n",
       "      <td>time</td>\n",
       "      <td>five pm</td>\n",
       "    </tr>\n",
       "    <tr>\n",
       "      <th>711</th>\n",
       "      <td>10722</td>\n",
       "      <td>date</td>\n",
       "      <td>tuesday</td>\n",
       "    </tr>\n",
       "    <tr>\n",
       "      <th>712</th>\n",
       "      <td>10727</td>\n",
       "      <td>time</td>\n",
       "      <td>four pm</td>\n",
       "    </tr>\n",
       "    <tr>\n",
       "      <th>713</th>\n",
       "      <td>10727</td>\n",
       "      <td>date</td>\n",
       "      <td>tuesday</td>\n",
       "    </tr>\n",
       "    <tr>\n",
       "      <th>714</th>\n",
       "      <td>17347</td>\n",
       "      <td>None</td>\n",
       "      <td>None</td>\n",
       "    </tr>\n",
       "  </tbody>\n",
       "</table>\n",
       "<p>715 rows × 3 columns</p>\n",
       "</div>"
      ],
      "text/plain": [
       "        id entity_type        entity_words\n",
       "0        0        time             five am\n",
       "1        0        date           this week\n",
       "2        1        time             nine am\n",
       "3        1        date              friday\n",
       "4        2        time  two hours from now\n",
       "..     ...         ...                 ...\n",
       "710  10722        time             five pm\n",
       "711  10722        date             tuesday\n",
       "712  10727        time             four pm\n",
       "713  10727        date             tuesday\n",
       "714  17347        None                None\n",
       "\n",
       "[715 rows x 3 columns]"
      ]
     },
     "execution_count": 128,
     "metadata": {},
     "output_type": "execute_result"
    }
   ],
   "source": [
    "entity_type_words_df\n"
   ]
  },
  {
   "cell_type": "markdown",
   "metadata": {},
   "source": [
    "On the `entity_type_words_df` we will want to get the `entity_words` which multiple entries. Why don't we also count the number of times it appears?"
   ]
  },
  {
   "cell_type": "code",
   "execution_count": 135,
   "metadata": {},
   "outputs": [],
   "source": [
    "# return all rows where the entity_words are one of the entity_words in duplicated:\n",
    "all_entity_words = entity_type_words_df[\"entity_words\"]\n",
    "entity_type_word_counts_df = entity_type_words_df[all_entity_words.isin(all_entity_words[all_entity_words.duplicated(\n",
    ")])].sort_values(by=['entity_words']).groupby(['entity_words', 'entity_type']).count()"
   ]
  },
  {
   "cell_type": "code",
   "execution_count": 178,
   "metadata": {},
   "outputs": [
    {
     "data": {
      "text/html": [
       "<div>\n",
       "<style scoped>\n",
       "    .dataframe tbody tr th:only-of-type {\n",
       "        vertical-align: middle;\n",
       "    }\n",
       "\n",
       "    .dataframe tbody tr th {\n",
       "        vertical-align: top;\n",
       "    }\n",
       "\n",
       "    .dataframe thead th {\n",
       "        text-align: right;\n",
       "    }\n",
       "</style>\n",
       "<table border=\"1\" class=\"dataframe\">\n",
       "  <thead>\n",
       "    <tr style=\"text-align: right;\">\n",
       "      <th></th>\n",
       "      <th></th>\n",
       "      <th>id</th>\n",
       "    </tr>\n",
       "    <tr>\n",
       "      <th>entity_words</th>\n",
       "      <th>entity_type</th>\n",
       "      <th></th>\n",
       "    </tr>\n",
       "  </thead>\n",
       "  <tbody>\n",
       "    <tr>\n",
       "      <th>Thursday</th>\n",
       "      <th>date</th>\n",
       "      <td>2</td>\n",
       "    </tr>\n",
       "    <tr>\n",
       "      <th>Wednesday</th>\n",
       "      <th>date</th>\n",
       "      <td>2</td>\n",
       "    </tr>\n",
       "    <tr>\n",
       "      <th>eight</th>\n",
       "      <th>time</th>\n",
       "      <td>3</td>\n",
       "    </tr>\n",
       "    <tr>\n",
       "      <th>eight am</th>\n",
       "      <th>time</th>\n",
       "      <td>24</td>\n",
       "    </tr>\n",
       "    <tr>\n",
       "      <th>eight pm</th>\n",
       "      <th>time</th>\n",
       "      <td>4</td>\n",
       "    </tr>\n",
       "    <tr>\n",
       "      <th>evening</th>\n",
       "      <th>timeofday</th>\n",
       "      <td>3</td>\n",
       "    </tr>\n",
       "    <tr>\n",
       "      <th rowspan=\"2\" valign=\"top\">every morning</th>\n",
       "      <th>general_frequency</th>\n",
       "      <td>1</td>\n",
       "    </tr>\n",
       "    <tr>\n",
       "      <th>timeofday</th>\n",
       "      <td>1</td>\n",
       "    </tr>\n",
       "    <tr>\n",
       "      <th>everyday</th>\n",
       "      <th>date</th>\n",
       "      <td>2</td>\n",
       "    </tr>\n",
       "    <tr>\n",
       "      <th>five</th>\n",
       "      <th>time</th>\n",
       "      <td>5</td>\n",
       "    </tr>\n",
       "    <tr>\n",
       "      <th>five am</th>\n",
       "      <th>time</th>\n",
       "      <td>19</td>\n",
       "    </tr>\n",
       "    <tr>\n",
       "      <th>five hundred and thirty</th>\n",
       "      <th>time</th>\n",
       "      <td>3</td>\n",
       "    </tr>\n",
       "    <tr>\n",
       "      <th>five pm</th>\n",
       "      <th>time</th>\n",
       "      <td>10</td>\n",
       "    </tr>\n",
       "    <tr>\n",
       "      <th>four</th>\n",
       "      <th>time</th>\n",
       "      <td>2</td>\n",
       "    </tr>\n",
       "    <tr>\n",
       "      <th>four am</th>\n",
       "      <th>time</th>\n",
       "      <td>7</td>\n",
       "    </tr>\n",
       "    <tr>\n",
       "      <th>four pm</th>\n",
       "      <th>time</th>\n",
       "      <td>2</td>\n",
       "    </tr>\n",
       "    <tr>\n",
       "      <th>friday</th>\n",
       "      <th>date</th>\n",
       "      <td>3</td>\n",
       "    </tr>\n",
       "    <tr>\n",
       "      <th>meeting</th>\n",
       "      <th>event_name</th>\n",
       "      <td>6</td>\n",
       "    </tr>\n",
       "    <tr>\n",
       "      <th>monday</th>\n",
       "      <th>date</th>\n",
       "      <td>3</td>\n",
       "    </tr>\n",
       "    <tr>\n",
       "      <th>morning</th>\n",
       "      <th>timeofday</th>\n",
       "      <td>54</td>\n",
       "    </tr>\n",
       "    <tr>\n",
       "      <th>nine</th>\n",
       "      <th>time</th>\n",
       "      <td>2</td>\n",
       "    </tr>\n",
       "    <tr>\n",
       "      <th>nine am</th>\n",
       "      <th>time</th>\n",
       "      <td>9</td>\n",
       "    </tr>\n",
       "    <tr>\n",
       "      <th>nine pm</th>\n",
       "      <th>time</th>\n",
       "      <td>4</td>\n",
       "    </tr>\n",
       "    <tr>\n",
       "      <th>noon</th>\n",
       "      <th>timeofday</th>\n",
       "      <td>4</td>\n",
       "    </tr>\n",
       "    <tr>\n",
       "      <th>one hour</th>\n",
       "      <th>time</th>\n",
       "      <td>2</td>\n",
       "    </tr>\n",
       "    <tr>\n",
       "      <th>one pm</th>\n",
       "      <th>time</th>\n",
       "      <td>2</td>\n",
       "    </tr>\n",
       "    <tr>\n",
       "      <th>saturday</th>\n",
       "      <th>date</th>\n",
       "      <td>5</td>\n",
       "    </tr>\n",
       "    <tr>\n",
       "      <th>seven</th>\n",
       "      <th>time</th>\n",
       "      <td>2</td>\n",
       "    </tr>\n",
       "    <tr>\n",
       "      <th>seven am</th>\n",
       "      <th>time</th>\n",
       "      <td>20</td>\n",
       "    </tr>\n",
       "    <tr>\n",
       "      <th>seven pm</th>\n",
       "      <th>time</th>\n",
       "      <td>3</td>\n",
       "    </tr>\n",
       "    <tr>\n",
       "      <th>seven thirty am</th>\n",
       "      <th>time</th>\n",
       "      <td>4</td>\n",
       "    </tr>\n",
       "    <tr>\n",
       "      <th>six</th>\n",
       "      <th>time</th>\n",
       "      <td>6</td>\n",
       "    </tr>\n",
       "    <tr>\n",
       "      <th>six am</th>\n",
       "      <th>time</th>\n",
       "      <td>35</td>\n",
       "    </tr>\n",
       "    <tr>\n",
       "      <th>six thirty</th>\n",
       "      <th>time</th>\n",
       "      <td>2</td>\n",
       "    </tr>\n",
       "    <tr>\n",
       "      <th>six thirty am</th>\n",
       "      <th>time</th>\n",
       "      <td>3</td>\n",
       "    </tr>\n",
       "    <tr>\n",
       "      <th rowspan=\"2\" valign=\"top\">soccer practice</th>\n",
       "      <th>alarm_type</th>\n",
       "      <td>1</td>\n",
       "    </tr>\n",
       "    <tr>\n",
       "      <th>event_name</th>\n",
       "      <td>1</td>\n",
       "    </tr>\n",
       "    <tr>\n",
       "      <th>sunday</th>\n",
       "      <th>date</th>\n",
       "      <td>5</td>\n",
       "    </tr>\n",
       "    <tr>\n",
       "      <th>ten</th>\n",
       "      <th>time</th>\n",
       "      <td>6</td>\n",
       "    </tr>\n",
       "    <tr>\n",
       "      <th>ten am</th>\n",
       "      <th>time</th>\n",
       "      <td>11</td>\n",
       "    </tr>\n",
       "    <tr>\n",
       "      <th>ten pm</th>\n",
       "      <th>time</th>\n",
       "      <td>2</td>\n",
       "    </tr>\n",
       "    <tr>\n",
       "      <th>thirty minutes</th>\n",
       "      <th>time</th>\n",
       "      <td>3</td>\n",
       "    </tr>\n",
       "    <tr>\n",
       "      <th>this evening</th>\n",
       "      <th>timeofday</th>\n",
       "      <td>2</td>\n",
       "    </tr>\n",
       "    <tr>\n",
       "      <th>this week</th>\n",
       "      <th>date</th>\n",
       "      <td>3</td>\n",
       "    </tr>\n",
       "    <tr>\n",
       "      <th>three pm</th>\n",
       "      <th>time</th>\n",
       "      <td>4</td>\n",
       "    </tr>\n",
       "    <tr>\n",
       "      <th>thursday</th>\n",
       "      <th>date</th>\n",
       "      <td>3</td>\n",
       "    </tr>\n",
       "    <tr>\n",
       "      <th>today</th>\n",
       "      <th>date</th>\n",
       "      <td>24</td>\n",
       "    </tr>\n",
       "    <tr>\n",
       "      <th>tomorrow</th>\n",
       "      <th>date</th>\n",
       "      <td>71</td>\n",
       "    </tr>\n",
       "    <tr>\n",
       "      <th>tomorrow's</th>\n",
       "      <th>date</th>\n",
       "      <td>2</td>\n",
       "    </tr>\n",
       "    <tr>\n",
       "      <th>tuesday</th>\n",
       "      <th>date</th>\n",
       "      <td>9</td>\n",
       "    </tr>\n",
       "    <tr>\n",
       "      <th>twelve pm</th>\n",
       "      <th>time</th>\n",
       "      <td>2</td>\n",
       "    </tr>\n",
       "    <tr>\n",
       "      <th>two hours</th>\n",
       "      <th>time</th>\n",
       "      <td>2</td>\n",
       "    </tr>\n",
       "    <tr>\n",
       "      <th>two hours from now</th>\n",
       "      <th>time</th>\n",
       "      <td>2</td>\n",
       "    </tr>\n",
       "    <tr>\n",
       "      <th>two pm</th>\n",
       "      <th>time</th>\n",
       "      <td>2</td>\n",
       "    </tr>\n",
       "    <tr>\n",
       "      <th>wake up</th>\n",
       "      <th>alarm_type</th>\n",
       "      <td>10</td>\n",
       "    </tr>\n",
       "    <tr>\n",
       "      <th>wednesday</th>\n",
       "      <th>date</th>\n",
       "      <td>3</td>\n",
       "    </tr>\n",
       "    <tr>\n",
       "      <th>weekdays</th>\n",
       "      <th>date</th>\n",
       "      <td>2</td>\n",
       "    </tr>\n",
       "    <tr>\n",
       "      <th>weekends</th>\n",
       "      <th>time</th>\n",
       "      <td>2</td>\n",
       "    </tr>\n",
       "    <tr>\n",
       "      <th>whole week</th>\n",
       "      <th>time</th>\n",
       "      <td>2</td>\n",
       "    </tr>\n",
       "  </tbody>\n",
       "</table>\n",
       "</div>"
      ],
      "text/plain": [
       "                                           id\n",
       "entity_words            entity_type          \n",
       "Thursday                date                2\n",
       "Wednesday               date                2\n",
       "eight                   time                3\n",
       "eight am                time               24\n",
       "eight pm                time                4\n",
       "evening                 timeofday           3\n",
       "every morning           general_frequency   1\n",
       "                        timeofday           1\n",
       "everyday                date                2\n",
       "five                    time                5\n",
       "five am                 time               19\n",
       "five hundred and thirty time                3\n",
       "five pm                 time               10\n",
       "four                    time                2\n",
       "four am                 time                7\n",
       "four pm                 time                2\n",
       "friday                  date                3\n",
       "meeting                 event_name          6\n",
       "monday                  date                3\n",
       "morning                 timeofday          54\n",
       "nine                    time                2\n",
       "nine am                 time                9\n",
       "nine pm                 time                4\n",
       "noon                    timeofday           4\n",
       "one hour                time                2\n",
       "one pm                  time                2\n",
       "saturday                date                5\n",
       "seven                   time                2\n",
       "seven am                time               20\n",
       "seven pm                time                3\n",
       "seven thirty am         time                4\n",
       "six                     time                6\n",
       "six am                  time               35\n",
       "six thirty              time                2\n",
       "six thirty am           time                3\n",
       "soccer practice         alarm_type          1\n",
       "                        event_name          1\n",
       "sunday                  date                5\n",
       "ten                     time                6\n",
       "ten am                  time               11\n",
       "ten pm                  time                2\n",
       "thirty minutes          time                3\n",
       "this evening            timeofday           2\n",
       "this week               date                3\n",
       "three pm                time                4\n",
       "thursday                date                3\n",
       "today                   date               24\n",
       "tomorrow                date               71\n",
       "tomorrow's              date                2\n",
       "tuesday                 date                9\n",
       "twelve pm               time                2\n",
       "two hours               time                2\n",
       "two hours from now      time                2\n",
       "two pm                  time                2\n",
       "wake up                 alarm_type         10\n",
       "wednesday               date                3\n",
       "weekdays                date                2\n",
       "weekends                time                2\n",
       "whole week              time                2"
      ]
     },
     "execution_count": 178,
     "metadata": {},
     "output_type": "execute_result"
    }
   ],
   "source": [
    "entity_type_word_counts_df"
   ]
  },
  {
   "cell_type": "markdown",
   "metadata": {},
   "source": [
    "This part is a bit silly, but it works. We want to unstack the `entity_type_word_df` and then `dropna` on all of the columns with a threshold of 2. This will leave us with the `entity_words` that have more than one entity type and the `entity_type` that they have.\n",
    "\n",
    "There has to be a better way to do all of this, right? Right? LOL"
   ]
  },
  {
   "cell_type": "code",
   "execution_count": 179,
   "metadata": {},
   "outputs": [
    {
     "data": {
      "text/html": [
       "<div>\n",
       "<style scoped>\n",
       "    .dataframe tbody tr th:only-of-type {\n",
       "        vertical-align: middle;\n",
       "    }\n",
       "\n",
       "    .dataframe tbody tr th {\n",
       "        vertical-align: top;\n",
       "    }\n",
       "\n",
       "    .dataframe thead tr th {\n",
       "        text-align: left;\n",
       "    }\n",
       "\n",
       "    .dataframe thead tr:last-of-type th {\n",
       "        text-align: right;\n",
       "    }\n",
       "</style>\n",
       "<table border=\"1\" class=\"dataframe\">\n",
       "  <thead>\n",
       "    <tr>\n",
       "      <th></th>\n",
       "      <th colspan=\"6\" halign=\"left\">id</th>\n",
       "    </tr>\n",
       "    <tr>\n",
       "      <th>entity_type</th>\n",
       "      <th>alarm_type</th>\n",
       "      <th>date</th>\n",
       "      <th>event_name</th>\n",
       "      <th>general_frequency</th>\n",
       "      <th>time</th>\n",
       "      <th>timeofday</th>\n",
       "    </tr>\n",
       "    <tr>\n",
       "      <th>entity_words</th>\n",
       "      <th></th>\n",
       "      <th></th>\n",
       "      <th></th>\n",
       "      <th></th>\n",
       "      <th></th>\n",
       "      <th></th>\n",
       "    </tr>\n",
       "  </thead>\n",
       "  <tbody>\n",
       "    <tr>\n",
       "      <th>every morning</th>\n",
       "      <td>NaN</td>\n",
       "      <td>NaN</td>\n",
       "      <td>NaN</td>\n",
       "      <td>1.0</td>\n",
       "      <td>NaN</td>\n",
       "      <td>1.0</td>\n",
       "    </tr>\n",
       "    <tr>\n",
       "      <th>soccer practice</th>\n",
       "      <td>1.0</td>\n",
       "      <td>NaN</td>\n",
       "      <td>1.0</td>\n",
       "      <td>NaN</td>\n",
       "      <td>NaN</td>\n",
       "      <td>NaN</td>\n",
       "    </tr>\n",
       "  </tbody>\n",
       "</table>\n",
       "</div>"
      ],
      "text/plain": [
       "                        id                                                 \n",
       "entity_type     alarm_type date event_name general_frequency time timeofday\n",
       "entity_words                                                               \n",
       "every morning          NaN  NaN        NaN               1.0  NaN       1.0\n",
       "soccer practice        1.0  NaN        1.0               NaN  NaN       NaN"
      ]
     },
     "execution_count": 179,
     "metadata": {},
     "output_type": "execute_result"
    }
   ],
   "source": [
    "overlapping_entities_df = pd.DataFrame(entity_type_word_counts_df).unstack().dropna(thresh=2)\n",
    "overlapping_entities_df\n",
    "#TODO: refinement: output this information nicely, and then have users select which entity_type they want for each entity_words.\n",
    "# Then we will have gotten rid of the overlap!\n",
    "#TODO: do a refinement on the rest of the entity words to make sure they are going to the right place.\n",
    "#TODO: retrain the model and see if the results improve.\n",
    "#TODO: do the refinement on all of the incorrect predicted entities that remain by reviewing the utterance with tagging.\n",
    "#TODO: repeat for all of the domains.\n"
   ]
  },
  {
   "cell_type": "markdown",
   "metadata": {},
   "source": [
    "We need the `overlapping_entity_words` themselves so we can pull an `isin` to get them all by their original `index` in `entity_type_word_df`.\n",
    "\n",
    "But really, there has to be a better way than this!"
   ]
  },
  {
   "cell_type": "code",
   "execution_count": 144,
   "metadata": {},
   "outputs": [],
   "source": [
    "overlapping_entity_words =  pd.DataFrame(overlapping_entities_df.id).index.values"
   ]
  },
  {
   "cell_type": "code",
   "execution_count": 146,
   "metadata": {},
   "outputs": [],
   "source": [
    "overlapping_entity_words_df = entity_type_words_df[entity_type_words_df['entity_words'].isin(overlapping_entity_words)]\n",
    "\n",
    "overlapping_entity_words_df = overlapping_entity_words_df.sort_values(by=[\n",
    "    'entity_words'])\n"
   ]
  },
  {
   "cell_type": "markdown",
   "metadata": {},
   "source": [
    "How about a little prototype of the function we will make in the class to prompt the user on the refinement?"
   ]
  },
  {
   "cell_type": "code",
   "execution_count": 156,
   "metadata": {},
   "outputs": [
    {
     "name": "stdout",
     "output_type": "stream",
     "text": [
      "For the following entity words, please select the correct entity type.\n",
      "entity words: every morning\n",
      "entity types: ['timeofday' 'general_frequency']\n",
      "entity words: soccer practice\n",
      "entity types: ['alarm_type' 'event_name']\n"
     ]
    }
   ],
   "source": [
    "print(\"For the following entity words, please select the correct entity type.\")\n",
    "correct_entity_types = []\n",
    "for entity_word in overlapping_entity_words:\n",
    "    print(f'entity words: {entity_word}')\n",
    "    print(\n",
    "        f'entity types: {overlapping_entity_words_df[overlapping_entity_words_df[\"entity_words\"] == entity_word][\"entity_type\"].values}')\n",
    "    correct_entity_type = input(\"Type in the correct entity type\")\n",
    "    correct_entity_types.append(correct_entity_type)\n",
    "    #TODO: This isn't right, it should apply it to the domain_df in the annotated column and save the domain_df to a csv.\n",
    "    #overlapping_entity_words_df.loc[overlapping_entity_words_df['entity_words'] == entity_word, 'entity_type'] = correct_entity_type\n",
    "    #TODO: for entity_word in overlapping_entity_words_df, get the ids\n",
    "    overlapping_by_id = overlapping_entity_words_df[overlapping_entity_words_df['entity_words'] == entity_word]['id'].values\n",
    "    overlapping_by_id\n"
   ]
  },
  {
   "cell_type": "markdown",
   "metadata": {},
   "source": [
    "We have the `overlapping_by_id` which we will need to find the entries we want to change in `domain_df`."
   ]
  },
  {
   "cell_type": "code",
   "execution_count": null,
   "metadata": {},
   "outputs": [],
   "source": [
    "overlapping_by_id"
   ]
  },
  {
   "cell_type": "markdown",
   "metadata": {},
   "source": [
    "We have the `correct_entity_types`. We will need those to know what to change the `entity_type` to."
   ]
  },
  {
   "cell_type": "code",
   "execution_count": 160,
   "metadata": {},
   "outputs": [
    {
     "data": {
      "text/plain": [
       "['timeofday', 'event_name']"
      ]
     },
     "execution_count": 160,
     "metadata": {},
     "output_type": "execute_result"
    }
   ],
   "source": [
    "correct_entity_types"
   ]
  },
  {
   "cell_type": "markdown",
   "metadata": {},
   "source": [
    "We should probably get a list of the `incorrect_entity_types` to go along with our `correct_entity_types`, so we know what to replace."
   ]
  },
  {
   "cell_type": "code",
   "execution_count": 158,
   "metadata": {},
   "outputs": [],
   "source": [
    "incorrect_entity_types = []\n",
    "for entity_type in overlapping_entity_words_df['entity_type'].values:\n",
    "    if entity_type not in correct_entity_types:\n",
    "        incorrect_entity_types.append(entity_type)"
   ]
  },
  {
   "cell_type": "code",
   "execution_count": 159,
   "metadata": {},
   "outputs": [
    {
     "data": {
      "text/plain": [
       "['alarm_type', 'general_frequency']"
      ]
     },
     "execution_count": 159,
     "metadata": {},
     "output_type": "execute_result"
    }
   ],
   "source": [
    "incorrect_entity_types"
   ]
  },
  {
   "cell_type": "markdown",
   "metadata": {},
   "source": [
    "Now we can get out `overlapping_domain_df`."
   ]
  },
  {
   "cell_type": "code",
   "execution_count": 175,
   "metadata": {},
   "outputs": [
    {
     "data": {
      "text/html": [
       "<div>\n",
       "<style scoped>\n",
       "    .dataframe tbody tr th:only-of-type {\n",
       "        vertical-align: middle;\n",
       "    }\n",
       "\n",
       "    .dataframe tbody tr th {\n",
       "        vertical-align: top;\n",
       "    }\n",
       "\n",
       "    .dataframe thead th {\n",
       "        text-align: right;\n",
       "    }\n",
       "</style>\n",
       "<table border=\"1\" class=\"dataframe\">\n",
       "  <thead>\n",
       "    <tr style=\"text-align: right;\">\n",
       "      <th></th>\n",
       "      <th>question</th>\n",
       "      <th>answer_normalised</th>\n",
       "      <th>scenario</th>\n",
       "      <th>intent</th>\n",
       "      <th>predicted_label</th>\n",
       "      <th>answer_annotation</th>\n",
       "      <th>entities</th>\n",
       "      <th>entity_types</th>\n",
       "      <th>predicted_tagging</th>\n",
       "    </tr>\n",
       "  </thead>\n",
       "  <tbody>\n",
       "    <tr>\n",
       "      <th>5797</th>\n",
       "      <td>How would you ask your PDA to remove an alarm ...</td>\n",
       "      <td>cancel all soccer practice alarms</td>\n",
       "      <td>alarm</td>\n",
       "      <td>alarm_remove</td>\n",
       "      <td>commandstop</td>\n",
       "      <td>cancel all [alarm_type : soccer practice] alarms</td>\n",
       "      <td>[{'type': 'alarm_type', 'words': ['soccer', 'p...</td>\n",
       "      <td>alarm_type</td>\n",
       "      <td>cancel all [alarm_type : soccer practice] alarms</td>\n",
       "    </tr>\n",
       "    <tr>\n",
       "      <th>8895</th>\n",
       "      <td>Write what you would tell your PDA in the foll...</td>\n",
       "      <td>set alarm for saturday morning soccer practice...</td>\n",
       "      <td>alarm</td>\n",
       "      <td>alarm_set</td>\n",
       "      <td>alarm_set</td>\n",
       "      <td>set alarm for [date : saturday] [timeofday : m...</td>\n",
       "      <td>[{'type': 'date', 'words': ['saturday']}, {'ty...</td>\n",
       "      <td>date,timeofday,event_name,time</td>\n",
       "      <td>set alarm for [date : saturday] [timeofday : m...</td>\n",
       "    </tr>\n",
       "  </tbody>\n",
       "</table>\n",
       "</div>"
      ],
      "text/plain": [
       "                                               question  \\\n",
       "5797  How would you ask your PDA to remove an alarm ...   \n",
       "8895  Write what you would tell your PDA in the foll...   \n",
       "\n",
       "                                      answer_normalised scenario  \\\n",
       "5797                  cancel all soccer practice alarms    alarm   \n",
       "8895  set alarm for saturday morning soccer practice...    alarm   \n",
       "\n",
       "            intent predicted_label  \\\n",
       "5797  alarm_remove     commandstop   \n",
       "8895     alarm_set       alarm_set   \n",
       "\n",
       "                                      answer_annotation  \\\n",
       "5797   cancel all [alarm_type : soccer practice] alarms   \n",
       "8895  set alarm for [date : saturday] [timeofday : m...   \n",
       "\n",
       "                                               entities  \\\n",
       "5797  [{'type': 'alarm_type', 'words': ['soccer', 'p...   \n",
       "8895  [{'type': 'date', 'words': ['saturday']}, {'ty...   \n",
       "\n",
       "                        entity_types  \\\n",
       "5797                      alarm_type   \n",
       "8895  date,timeofday,event_name,time   \n",
       "\n",
       "                                      predicted_tagging  \n",
       "5797   cancel all [alarm_type : soccer practice] alarms  \n",
       "8895  set alarm for [date : saturday] [timeofday : m...  "
      ]
     },
     "execution_count": 175,
     "metadata": {},
     "output_type": "execute_result"
    }
   ],
   "source": [
    "overlapping_domain_df = domain_df[domain_df.index.isin(\n",
    "    overlapping_by_id)]\n",
    "overlapping_domain_df"
   ]
  },
  {
   "cell_type": "markdown",
   "metadata": {},
   "source": [
    "How about we for loop over the zip of `incorrect_entity_types` and `correct_entity_types` and replace the `entity_type` in `overlapping_domain_df` with the `correct_entity_type`."
   ]
  },
  {
   "cell_type": "code",
   "execution_count": 171,
   "metadata": {},
   "outputs": [
    {
     "name": "stderr",
     "output_type": "stream",
     "text": [
      "/home/bartmoss/code/NLU-engine-prototype-benchmarks/.venv/lib/python3.7/site-packages/pandas/core/generic.py:6619: SettingWithCopyWarning: \n",
      "A value is trying to be set on a copy of a slice from a DataFrame\n",
      "\n",
      "See the caveats in the documentation: https://pandas.pydata.org/pandas-docs/stable/user_guide/indexing.html#returning-a-view-versus-a-copy\n",
      "  return self._update_inplace(result)\n"
     ]
    }
   ],
   "source": [
    "for incorrect_entity_type, correct_entity_type in zip(incorrect_entity_types, correct_entity_types):\n",
    "    domain_df[domain_df.index.isin(\n",
    "        overlapping_by_id)].answer_annotation.replace(incorrect_entity_type, correct_entity_type, inplace=True)"
   ]
  },
  {
   "cell_type": "markdown",
   "metadata": {},
   "source": [
    "It doesn't seem to work here because I am too tired to keep coding. I will have to come back to this later."
   ]
  },
  {
   "cell_type": "code",
   "execution_count": null,
   "metadata": {},
   "outputs": [],
   "source": [
    "#TODO: work from here to get the domain_df to be changed and saved to a csv. I will probably need to just merge the new df with `domain_df` and then save it to a csv."
   ]
  },
  {
   "cell_type": "code",
   "execution_count": 172,
   "metadata": {},
   "outputs": [
    {
     "data": {
      "text/html": [
       "<div>\n",
       "<style scoped>\n",
       "    .dataframe tbody tr th:only-of-type {\n",
       "        vertical-align: middle;\n",
       "    }\n",
       "\n",
       "    .dataframe tbody tr th {\n",
       "        vertical-align: top;\n",
       "    }\n",
       "\n",
       "    .dataframe thead th {\n",
       "        text-align: right;\n",
       "    }\n",
       "</style>\n",
       "<table border=\"1\" class=\"dataframe\">\n",
       "  <thead>\n",
       "    <tr style=\"text-align: right;\">\n",
       "      <th></th>\n",
       "      <th>question</th>\n",
       "      <th>answer_normalised</th>\n",
       "      <th>scenario</th>\n",
       "      <th>intent</th>\n",
       "      <th>predicted_label</th>\n",
       "      <th>answer_annotation</th>\n",
       "      <th>entities</th>\n",
       "      <th>entity_types</th>\n",
       "      <th>predicted_tagging</th>\n",
       "    </tr>\n",
       "  </thead>\n",
       "  <tbody>\n",
       "    <tr>\n",
       "      <th>5797</th>\n",
       "      <td>How would you ask your PDA to remove an alarm ...</td>\n",
       "      <td>cancel all soccer practice alarms</td>\n",
       "      <td>alarm</td>\n",
       "      <td>alarm_remove</td>\n",
       "      <td>commandstop</td>\n",
       "      <td>cancel all [alarm_type : soccer practice] alarms</td>\n",
       "      <td>[{'type': 'alarm_type', 'words': ['soccer', 'p...</td>\n",
       "      <td>alarm_type</td>\n",
       "      <td>cancel all [alarm_type : soccer practice] alarms</td>\n",
       "    </tr>\n",
       "    <tr>\n",
       "      <th>8895</th>\n",
       "      <td>Write what you would tell your PDA in the foll...</td>\n",
       "      <td>set alarm for saturday morning soccer practice...</td>\n",
       "      <td>alarm</td>\n",
       "      <td>alarm_set</td>\n",
       "      <td>alarm_set</td>\n",
       "      <td>set alarm for [date : saturday] [timeofday : m...</td>\n",
       "      <td>[{'type': 'date', 'words': ['saturday']}, {'ty...</td>\n",
       "      <td>date,timeofday,event_name,time</td>\n",
       "      <td>set alarm for [date : saturday] [timeofday : m...</td>\n",
       "    </tr>\n",
       "  </tbody>\n",
       "</table>\n",
       "</div>"
      ],
      "text/plain": [
       "                                               question  \\\n",
       "5797  How would you ask your PDA to remove an alarm ...   \n",
       "8895  Write what you would tell your PDA in the foll...   \n",
       "\n",
       "                                      answer_normalised scenario  \\\n",
       "5797                  cancel all soccer practice alarms    alarm   \n",
       "8895  set alarm for saturday morning soccer practice...    alarm   \n",
       "\n",
       "            intent predicted_label  \\\n",
       "5797  alarm_remove     commandstop   \n",
       "8895     alarm_set       alarm_set   \n",
       "\n",
       "                                      answer_annotation  \\\n",
       "5797   cancel all [alarm_type : soccer practice] alarms   \n",
       "8895  set alarm for [date : saturday] [timeofday : m...   \n",
       "\n",
       "                                               entities  \\\n",
       "5797  [{'type': 'alarm_type', 'words': ['soccer', 'p...   \n",
       "8895  [{'type': 'date', 'words': ['saturday']}, {'ty...   \n",
       "\n",
       "                        entity_types  \\\n",
       "5797                      alarm_type   \n",
       "8895  date,timeofday,event_name,time   \n",
       "\n",
       "                                      predicted_tagging  \n",
       "5797   cancel all [alarm_type : soccer practice] alarms  \n",
       "8895  set alarm for [date : saturday] [timeofday : m...  "
      ]
     },
     "execution_count": 172,
     "metadata": {},
     "output_type": "execute_result"
    }
   ],
   "source": [
    "domain_df[domain_df.index.isin(\n",
    "    overlapping_by_id)]"
   ]
  },
  {
   "cell_type": "code",
   "execution_count": null,
   "metadata": {},
   "outputs": [],
   "source": [
    "#TODO: Once the above is done to update the domain_df:\n",
    "# 1. have a text prompt for the user to review the other entity types with their words\n",
    "# 2. merge this refinement into the domain_df\n",
    "# 3. save the domain_df to a csv\n",
    "# 4. go to the general refinement of entities were their was a mismatch in the predicted."
   ]
  },
  {
   "cell_type": "code",
   "execution_count": null,
   "metadata": {},
   "outputs": [],
   "source": [
    "#TODO: It is probably a good idea to drop all of the ones that lack a good support.\n",
    "#NOTE: But it didn't work to fix the problem.\n",
    "remove_entities = [\n",
    "    'music_album',\n",
    "    'game_type',\n",
    "    \n",
    "]\n",
    "removed_nlu_data_refined__entities_cleaned_df = removed_nlu_data_refined_df[~removed_nlu_data_refined_df['answer_annotation'].str.contains('|'.join(remove_entities))]"
   ]
  },
  {
   "cell_type": "code",
   "execution_count": null,
   "metadata": {},
   "outputs": [],
   "source": [
    "Analytics.plot_report(entity_report_df)"
   ]
  },
  {
   "cell_type": "code",
   "execution_count": null,
   "metadata": {},
   "outputs": [],
   "source": [
    "#TODO: Remove/replace worst: add in state features like here: https://sklearn-crfsuite.readthedocs.io/en/latest/tutorial.html#let-s-check-what-classifier-learned\n",
    "# Specifically, we want print_state_features()"
   ]
  },
  {
   "cell_type": "code",
   "execution_count": null,
   "metadata": {},
   "outputs": [],
   "source": [
    "def print_state_features(state_features):\n",
    "    for (attr, label), weight in state_features:\n",
    "        print(\"%0.6f %-8s %s\" % (weight, label, attr))\n"
   ]
  },
  {
   "cell_type": "code",
   "execution_count": null,
   "metadata": {},
   "outputs": [],
   "source": [
    "from nlu_engine import crf\n",
    "from collections import Counter"
   ]
  },
  {
   "cell_type": "code",
   "execution_count": null,
   "metadata": {},
   "outputs": [],
   "source": [
    "crf_model.state_features_"
   ]
  },
  {
   "cell_type": "code",
   "execution_count": null,
   "metadata": {},
   "outputs": [],
   "source": [
    "print_state_features(Counter(crf.state_features_).most_common(100))"
   ]
  },
  {
   "cell_type": "code",
   "execution_count": null,
   "metadata": {},
   "outputs": [],
   "source": [
    "# TODO: review the most common features, none of them are the word parts (chunks) or POS tags, are these even needed or helpful?\n",
    "# Can we remove them and speed up the process?\n",
    "# What other features could be used? Word2vec? Brown clustering?"
   ]
  },
  {
   "cell_type": "code",
   "execution_count": null,
   "metadata": {},
   "outputs": [],
   "source": [
    "domain_selection = MacroDataRefinement.list_and_select_domain(nlu_data_df)"
   ]
  },
  {
   "cell_type": "markdown",
   "metadata": {},
   "source": [
    "As we have seen from the entity extraction report, the entity extraction is not working for the alarm_type."
   ]
  },
  {
   "cell_type": "code",
   "execution_count": null,
   "metadata": {},
   "outputs": [],
   "source": [
    "#TODO: review all scoring 0, see if they can be completely dropped or what\n",
    "entity_to_refine = 'alarm_type'\n",
    "nlu_scenario_df = removed_nlu_data_refined_df[removed_nlu_data_refined_df['answer_annotation'].str.contains(\n",
    "    entity_to_refine)]"
   ]
  },
  {
   "cell_type": "code",
   "execution_count": null,
   "metadata": {},
   "outputs": [],
   "source": [
    "nlu_scenario_df"
   ]
  },
  {
   "cell_type": "code",
   "execution_count": null,
   "metadata": {},
   "outputs": [],
   "source": [
    "def remove_entity(df, entity_to_remove):\n",
    "    \"\"\"\n",
    "        Remove all entries of an entity type from the dataframe.\n",
    "        :param df: pandas dataframe\n",
    "        :return: pandas dataframe\n",
    "        \"\"\"\n",
    "    updated_df = df.copy()\n",
    "    updated_df.loc[updated_df['answer_annotation'].str.contains(\n",
    "        entity_to_remove), 'remove'] = True\n",
    "    return updated_df\n"
   ]
  },
  {
   "cell_type": "code",
   "execution_count": null,
   "metadata": {},
   "outputs": [],
   "source": [
    "updated_df = remove_entity(removed_nlu_data_refined_df, entity_to_refine)"
   ]
  },
  {
   "cell_type": "code",
   "execution_count": null,
   "metadata": {},
   "outputs": [],
   "source": [
    "removed_nlu_data_refined_df[removed_nlu_data_refined_df['answer_annotation'].str.contains(\n",
    "    entity_to_refine)]"
   ]
  },
  {
   "cell_type": "markdown",
   "metadata": {},
   "source": [
    "## Entity Convert to ipysheet and review\n",
    "TODO: add in description of the types of fixes we can do to the NLU data for entity\n"
   ]
  },
  {
   "cell_type": "code",
   "execution_count": null,
   "metadata": {},
   "outputs": [],
   "source": [
    "\n",
    "# TODO: same as above for intents but with predicted entities: report on them, break them down into a dictionary of dataframes and refine them.."
   ]
  },
  {
   "cell_type": "markdown",
   "metadata": {},
   "source": [
    "For the example with 'alarm' and the alarm_type:\n",
    "* We see that the alarm_type entities are really event_name(ie wake up, soccer practice) except for ID 5879, we will need to change them to event_name and remove ID 5879.\n",
    "* The last one(ID 6320) is a mistake. Someone got confused with the prompt and assumed alarm is a security system. This is out of scope for the alarm domain, as the alarms are ones set on a phone or other device. We will drop this utterance.\n",
    "Once you are done reviewing, you convert it back to a dataframe and check to make sure it looks okay.\n",
    "Let's change all alarm_type entities to event_name."
   ]
  },
  {
   "cell_type": "code",
   "execution_count": null,
   "metadata": {},
   "outputs": [],
   "source": [
    "\n",
    "reviewed_scenario_df['answer_annotation'] = reviewed_scenario_df['answer_annotation'].str.replace(\n",
    "    'alarm_type', 'event_name')\n",
    "reviewed_scenario_df\n"
   ]
  },
  {
   "cell_type": "markdown",
   "metadata": {},
   "source": [
    "Okay dokey, now we can merge this with the original data set and see if it made a difference already(well of course it did!)."
   ]
  },
  {
   "cell_type": "code",
   "execution_count": null,
   "metadata": {},
   "outputs": [],
   "source": [
    "nlu_data_df.drop(\n",
    "    reviewed_scenario_df[reviewed_scenario_df['remove'] == True].index, inplace=True)\n",
    "\n",
    "reviewed_scenario_df = reviewed_scenario_df[~reviewed_scenario_df['remove'] == True]\n",
    "\n",
    "nlu_data_df.loc[nlu_data_df.index.intersection(\n",
    "    reviewed_scenario_df.index), 'answer_annotation'] = reviewed_scenario_df['answer_annotation']\n",
    "\n",
    "nlu_data_df[(nlu_data_df['scenario'].str.contains('alarm')) & (nlu_data_df['answer_annotation'].str.contains(\n",
    "    'event_name'))]\n"
   ]
  },
  {
   "cell_type": "markdown",
   "metadata": {},
   "source": [
    "### Benchmark changed data set\n",
    "TODO: repeat reports for the changed data set for domain and entities and compare\n"
   ]
  },
  {
   "cell_type": "code",
   "execution_count": null,
   "metadata": {},
   "outputs": [],
   "source": [
    "\n",
    "entity_reviewed_report_df = NLUEngine.evaluate_entity_classifier(\n",
    "    data_df=nlu_data_df)\n",
    "entity_reviewed_report_df.sort_values(by=['f1-score'])"
   ]
  },
  {
   "cell_type": "markdown",
   "metadata": {},
   "source": [
    "If you are sure it is okay, you can save it as a csv file, make sure to name it correctly(i.e. `alarm_domain_first_review.csv`)"
   ]
  },
  {
   "cell_type": "code",
   "execution_count": null,
   "metadata": {},
   "outputs": [],
   "source": [
    "reviewed_scenario_df.to_csv('alarm_domain_first_review.csv')"
   ]
  },
  {
   "cell_type": "markdown",
   "metadata": {},
   "source": [
    "Load it back up and check to make sure it looks okay. Make sure to give it the right name!\n"
   ]
  },
  {
   "cell_type": "code",
   "execution_count": null,
   "metadata": {},
   "outputs": [],
   "source": [
    "audio_domain_first_review_df = pd.read_csv(\n",
    "    'alarm_domain_first_review.csv', index_col=0)\n",
    "audio_domain_first_review_df.tail(50)\n"
   ]
  },
  {
   "cell_type": "code",
   "execution_count": null,
   "metadata": {},
   "outputs": [],
   "source": [
    "# TODO: implement the evaluate_classifier in the NLU engine to check f1 score for intents and entities in the domain vs original NLU data of domain!\n",
    "# Value: benchmark!\n",
    "#TODO: implement a flow for getting the domains with the lowest f1 scores by intent/domain and entities and cleaning them by the order of the lowest f1 scores\n",
    "# TODO: concat all reviewed dfs and save to csv\n",
    "# TODO: add benchmark for whole NLU data set before and after cleaning! (by intents and domains!)\n",
    "# TODO: review the review marked entries\n",
    "# TODO: add new column for notes\n",
    "# TODO: change flow of review for only ones that should be reviewed, not all of the ones that have been changed (track changes by comparing against the original data set)\n",
    "# TODO: do the changed utterances have to be changed in other fields too or is it just enough for the tagged utterancve field?\n",
    "# TODO: add visualizations of domains, their intents, keywords in utterances, and entities to top\n"
   ]
  }
 ],
 "metadata": {
  "interpreter": {
   "hash": "f1ecf1ecc6a840da86e8b827c66035ad900dc97d6a10e234826dd106c37257af"
  },
  "kernelspec": {
   "display_name": "Python 3.7.7 ('.venv': venv)",
   "language": "python",
   "name": "python3"
  },
  "language_info": {
   "codemirror_mode": {
    "name": "ipython",
    "version": 3
   },
   "file_extension": ".py",
   "mimetype": "text/x-python",
   "name": "python",
   "nbconvert_exporter": "python",
   "pygments_lexer": "ipython3",
   "version": "3.7.7"
  },
  "orig_nbformat": 4
 },
 "nbformat": 4,
 "nbformat_minor": 2
}
